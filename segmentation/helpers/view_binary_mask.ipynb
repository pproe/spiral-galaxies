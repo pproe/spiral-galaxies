{
 "cells": [
  {
   "cell_type": "code",
   "execution_count": 9,
   "metadata": {},
   "outputs": [
    {
     "data": {
      "image/png": "[encoded data removed]",
      "text/plain": [
       "<Figure size 432x288 with 1 Axes>"
      ]
     },
     "metadata": {
      "needs_background": "light"
     },
     "output_type": "display_data"
    }
   ],
   "source": [
    "## Displays binary mask image\n",
    "\n",
    "from PIL import Image\n",
    "import matplotlib.pyplot as plt\n",
    "\n",
    "image_path = input(\"Enter image path: \")\n",
    "\n",
    "with Image.open(image_path) as img:\n",
    "    plt.imshow(img, cmap='gray')\n",
    "    plt.axis('off')\n",
    "    plt.show()"
   ]
  },
  {
   "cell_type": "code",
   "execution_count": 5,
   "metadata": {},
   "outputs": [
    {
     "name": "stdout",
     "output_type": "stream",
     "text": [
      "Successfully wrote 10000 lines to test.txt.\n"
     ]
    }
   ],
   "source": [
    "## Writes a single image to a text file\n",
    "\n",
    "from PIL import Image\n",
    "import numpy as np\n",
    "\n",
    "# Ask user for inputs of image and output file paths\n",
    "image_file_path = input(\"Enter image path: \")\n",
    "output_file_path = input(\"Enter path to save output: \")\n",
    "\n",
    "# Open image file, return error if unsuccessful\n",
    "try:\n",
    "    image = Image.open(image_file_path)\n",
    "except FileNotFoundError:\n",
    "    print(\"File not found. Please check the path and try again.\")\n",
    "except:\n",
    "    print(\"Error opening specified image.\")\n",
    "\n",
    "# Convert to numpy array\n",
    "data = np.asarray(image).flatten().astype(\"float64\")\n",
    "\n",
    "# Open output file to write data to, return error if unsuccessful\n",
    "try:\n",
    "    file_buffer = open(output_file_path, \"w\")\n",
    "    np.savetxt(file_buffer, data, fmt=\"%1.4f\")\n",
    "except:\n",
    "    print(\"Error writing to specified path.\")\n",
    "\n",
    "# Clean up file buffer\n",
    "file_buffer.close()\n",
    "\n",
    "print(f\"Successfully wrote {len(data)} lines to {output_file_path}.\")"
   ]
  },
  {
   "cell_type": "code",
   "execution_count": 21,
   "metadata": {},
   "outputs": [
    {
     "name": "stdout",
     "output_type": "stream",
     "text": [
      "Successfully wrote 20000 lines to test123\n"
     ]
    }
   ],
   "source": [
    "## Writes multiple images in a single folder to a text file\n",
    "\n",
    "from PIL import Image\n",
    "import numpy as np\n",
    "from os import listdir\n",
    "from os.path import isfile, join\n",
    "\n",
    "# Ask user for inputs of image and output file paths\n",
    "folder_path = input(\"Enter path of folder containing images: \")\n",
    "output_file_path = input(\"Enter path to save output: \")\n",
    "\n",
    "# Open image files, return error if unsuccessful\n",
    "try:\n",
    "    image_file_paths = [f for f in listdir(folder_path) if isfile(join(folder_path, f))]\n",
    "    images = [Image.open(join(folder_path, path)) for path in image_file_paths]\n",
    "except FileNotFoundError:\n",
    "    print(\"Image Folder not found. Please check the path and try again.\")\n",
    "except:\n",
    "    print(\"Error opening specified image folder.\")\n",
    "    \n",
    "# Convert to numpy array\n",
    "data = np.asarray([np.asarray(image) for image in images]).flatten().astype(\"float64\")\n",
    "\n",
    "# Open output file to write data to, return error if unsuccessful\n",
    "try:\n",
    "    file_buffer = open(output_file_path, \"w\")\n",
    "    np.savetxt(file_buffer, data, fmt=\"%1.4f\")\n",
    "except:\n",
    "    print(\"Error writing to specified path.\")\n",
    "\n",
    "# Clean up file buffer\n",
    "file_buffer.close()\n",
    "\n",
    "print(f\"Successfully wrote {len(data)} lines to {output_file_path}\")"
   ]
  }
 ],
 "metadata": {
  "kernelspec": {
   "display_name": "Python 3",
   "language": "python",
   "name": "python3"
  },
  "language_info": {
   "codemirror_mode": {
    "name": "ipython",
    "version": 3
   },
   "file_extension": ".py",
   "mimetype": "text/x-python",
   "name": "python",
   "nbconvert_exporter": "python",
   "pygments_lexer": "ipython3",
   "version": "3.9.13"
  },
  "orig_nbformat": 4
 },
 "nbformat": 4,
 "nbformat_minor": 2
}
