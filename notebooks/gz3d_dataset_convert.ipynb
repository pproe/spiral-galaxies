{
 "cells": [
  {
   "attachments": {},
   "cell_type": "markdown",
   "metadata": {},
   "source": [
    "This notebook contains scripts used to generate 64x64 images usable by the U-Net model from 512x512 images from the GalaxyZoo3D project.\n"
   ]
  },
  {
   "cell_type": "code",
   "execution_count": 127,
   "metadata": {},
   "outputs": [],
   "source": [
    "IMAGE_PATH = \"E:\\Documents\\Thesis\\spiral-galaxies\\data\\galaxyzoo3d\\orig_img\"\n",
    "MASK_PATH = \"E:\\Documents\\Thesis\\spiral-galaxies\\data\\galaxyzoo3d\\orig_msk\"\n",
    "BINARY_MASK_OUT_PATH = (\n",
    "    \"E:\\Documents\\Thesis\\spiral-galaxies\\data\\galaxyzoo3d\\\\bin_msk\"\n",
    ")\n",
    "RESCALED_IMAGE_OUT_PATH = (\n",
    "    \"E:\\Documents\\Thesis\\spiral-galaxies\\data\\galaxyzoo3d\\\\rescaled_img\"\n",
    ")"
   ]
  },
  {
   "cell_type": "code",
   "execution_count": 112,
   "metadata": {},
   "outputs": [],
   "source": [
    "import os\n",
    "import matplotlib.pyplot as plt\n",
    "from PIL import Image\n",
    "import numpy as np\n",
    "from skimage import morphology, transform"
   ]
  },
  {
   "cell_type": "code",
   "execution_count": 113,
   "metadata": {},
   "outputs": [],
   "source": [
    "def read_mask(filename, threshold):\n",
    "    image_path = os.path.join(MASK_PATH, filename)\n",
    "\n",
    "    image = Image.open(image_path)\n",
    "    image = np.array(image.point(lambda p: 1 if p > threshold else 0))\n",
    "    image = morphology.isotropic_opening(image, 9)\n",
    "\n",
    "    if np.sum(image) > 5000:\n",
    "        image = morphology.remove_small_objects(image, 512)\n",
    "        _, connected = morphology.label(image, return_num=True)\n",
    "        if connected == 2:\n",
    "            return transform.resize(image, (64, 64))"
   ]
  },
  {
   "cell_type": "code",
   "execution_count": 146,
   "metadata": {},
   "outputs": [],
   "source": [
    "def read_image(filename):\n",
    "    image_path = os.path.join(IMAGE_PATH, filename)\n",
    "    image = Image.open(image_path)\n",
    "    return image.resize((64, 64))"
   ]
  },
  {
   "cell_type": "code",
   "execution_count": 150,
   "metadata": {},
   "outputs": [],
   "source": [
    "out_masks = []\n",
    "\n",
    "for path in os.listdir(MASK_PATH):\n",
    "    mask = read_mask(path, 3)\n",
    "    if mask is not None:\n",
    "        out_masks.append(mask)\n",
    "        mask_out = Image.fromarray(np.uint8(mask))\n",
    "        mask_out.save(os.path.join(BINARY_MASK_OUT_PATH, path), \"PNG\")\n",
    "\n",
    "        image = read_image(path)\n",
    "        image.save(os.path.join(RESCALED_IMAGE_OUT_PATH, path), \"PNG\")"
   ]
  }
 ],
 "metadata": {
  "kernelspec": {
   "display_name": "Python 3",
   "language": "python",
   "name": "python3"
  },
  "language_info": {
   "codemirror_mode": {
    "name": "ipython",
    "version": 3
   },
   "file_extension": ".py",
   "mimetype": "text/x-python",
   "name": "python",
   "nbconvert_exporter": "python",
   "pygments_lexer": "ipython3",
   "version": "3.9.13"
  },
  "orig_nbformat": 4
 },
 "nbformat": 4,
 "nbformat_minor": 2
}
