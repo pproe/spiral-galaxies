{
 "cells": [
  {
   "cell_type": "markdown",
   "id": "abd70309",
   "metadata": {
    "papermill": {
     "duration": 0.004923,
     "end_time": "2023-03-10T11:50:16.292228",
     "exception": false,
     "start_time": "2023-03-10T11:50:16.287305",
     "status": "completed"
    },
    "tags": []
   },
   "source": [
    "# Image Segmentation of Spiral Galaxies\n",
    "\n",
    "This notebook provides a detailed insight into the process that goes into the segmentation of spiral arms from images of spiral galaxies. This notebook accompanies the final year research project I completed for my Masters Degree in Professional Engineering (Software) at University of WA. The dataset used for this notebook is adapted from images retrieved from the 2nd public data release from the HSC data archive system, which is operated by Subaru Telescope and Astronomy Data Center at National Astronomical Observatory of Japan and classification of spiral galaxies from this dataset was achieved by [Tadaki et al.](https://arxiv.org/pdf/2006.13544.pdf) and all image content is a product of their work. You can register to access the HSC Data [here](https://hsc-release.mtk.nao.ac.jp/doc/index.php/data-access__pdr3/)."
   ]
  },
  {
   "cell_type": "markdown",
   "id": "3eebd01e",
   "metadata": {
    "papermill": {
     "duration": 0.003324,
     "end_time": "2023-03-10T11:50:16.299464",
     "exception": false,
     "start_time": "2023-03-10T11:50:16.296140",
     "status": "completed"
    },
    "tags": []
   },
   "source": [
    "## [1] Install Dependencies\n",
    "\n",
    "TThe following code cells will install all the necessary requirements for all code cells. Here we will also run the imports for packages that are used commonly throughout the notebook. Any other required packages will be imported within the code cell that they are required."
   ]
  },
  {
   "cell_type": "code",
   "execution_count": null,
   "id": "1207c98a",
   "metadata": {
    "papermill": {
     "duration": 0.003349,
     "end_time": "2023-03-10T11:50:16.306402",
     "exception": false,
     "start_time": "2023-03-10T11:50:16.303053",
     "status": "completed"
    },
    "tags": []
   },
   "outputs": [],
   "source": []
  },
  {
   "cell_type": "code",
   "execution_count": 1,
   "id": "20fd7001",
   "metadata": {
    "execution": {
     "iopub.execute_input": "2023-03-10T11:50:16.316641Z",
     "iopub.status.busy": "2023-03-10T11:50:16.315259Z",
     "iopub.status.idle": "2023-03-10T11:50:25.576438Z",
     "shell.execute_reply": "2023-03-10T11:50:25.575142Z"
    },
    "papermill": {
     "duration": 9.269686,
     "end_time": "2023-03-10T11:50:25.579701",
     "exception": false,
     "start_time": "2023-03-10T11:50:16.310015",
     "status": "completed"
    },
    "tags": []
   },
   "outputs": [],
   "source": [
    "import numpy as np\n",
    "import matplotlib.pyplot as plt\n",
    "from tensorflow import keras"
   ]
  },
  {
   "cell_type": "markdown",
   "id": "636ca341",
   "metadata": {
    "papermill": {
     "duration": 0.003416,
     "end_time": "2023-03-10T11:50:25.586955",
     "exception": false,
     "start_time": "2023-03-10T11:50:25.583539",
     "status": "completed"
    },
    "tags": []
   },
   "source": [
    "## [2] Data Pre-Processing\n",
    "\n",
    "This section covers the functionality used to process the data prior to it being used in training the segmentation model. These functions take the images from the dataset (in the format of `.jpg` and `.tif` files) to a data format that is usable by the Tensorflow Keras API. To achieve a concise pipeline, a Keras Sequence class is used to load and vectorize the data before training the model."
   ]
  },
  {
   "cell_type": "markdown",
   "id": "ee8c72c5",
   "metadata": {
    "papermill": {
     "duration": 0.003428,
     "end_time": "2023-03-10T11:50:25.593981",
     "exception": false,
     "start_time": "2023-03-10T11:50:25.590553",
     "status": "completed"
    },
    "tags": []
   },
   "source": [
    "### Set Up Directory Paths & Global Variables"
   ]
  },
  {
   "cell_type": "code",
   "execution_count": 2,
   "id": "e34d8dc7",
   "metadata": {
    "execution": {
     "iopub.execute_input": "2023-03-10T11:50:25.603658Z",
     "iopub.status.busy": "2023-03-10T11:50:25.602837Z",
     "iopub.status.idle": "2023-03-10T11:50:25.924674Z",
     "shell.execute_reply": "2023-03-10T11:50:25.923222Z"
    },
    "papermill": {
     "duration": 0.330132,
     "end_time": "2023-03-10T11:50:25.927651",
     "exception": false,
     "start_time": "2023-03-10T11:50:25.597519",
     "status": "completed"
    },
    "tags": []
   },
   "outputs": [
    {
     "name": "stdout",
     "output_type": "stream",
     "text": [
      "Found 100 files belonging to 1 classes.\n"
     ]
    }
   ],
   "source": [
    "import os\n",
    "from keras.utils import image_dataset_from_directory\n",
    "\n",
    "images_dir = '/kaggle/input/galaxy-segmentation-set-1/images'\n",
    "masks_dir = '/kaggle/input/galaxy-segmentation-set-1/masks'\n",
    "img_size = (100, 100)\n",
    "num_classes = 2\n",
    "batch_size = 32\n",
    "\n",
    "images_paths = sorted(\n",
    "    [\n",
    "        os.path.join(images_dir, fname)\n",
    "        for fname in os.listdir(images_dir)\n",
    "        if fname.endswith(\".jpg\")\n",
    "    ]\n",
    ")\n",
    "\n",
    "masks_paths = sorted(\n",
    "    [\n",
    "        os.path.join(masks_dir, fname)\n",
    "        for fname in os.listdir(masks_dir)\n",
    "        if fname.endswith(\".tif\") and not fname.startswith(\".\")\n",
    "    ]\n",
    ")\n",
    "\n",
    "images_dataset = image_dataset_from_directory(images_dir, labels=None, color_mode='grayscale', image_size=img_size)\n",
    "# TODO: reupload mask files as PNG\n",
    "#masks_dataset = image_dataset_from_directory(masks_dir, labels=None, color_mode='grayscale', image_size=img_size)\n",
    "\n",
    "#dataset = Dataset.zip((images_dataset, masks_dataset))\n"
   ]
  },
  {
   "cell_type": "markdown",
   "id": "c7fe1e81",
   "metadata": {
    "papermill": {
     "duration": 0.003546,
     "end_time": "2023-03-10T11:50:25.935137",
     "exception": false,
     "start_time": "2023-03-10T11:50:25.931591",
     "status": "completed"
    },
    "tags": []
   },
   "source": [
    "### Implement Data Augmentation Pipeline"
   ]
  },
  {
   "cell_type": "markdown",
   "id": "968eb86f",
   "metadata": {
    "papermill": {
     "duration": 0.003339,
     "end_time": "2023-03-10T11:50:25.942202",
     "exception": false,
     "start_time": "2023-03-10T11:50:25.938863",
     "status": "completed"
    },
    "tags": []
   },
   "source": [
    "Using in-built Keras preprocessing layers, build a pipeline that can be used to augment the images from the dataset."
   ]
  },
  {
   "cell_type": "code",
   "execution_count": null,
   "id": "062a2ae7",
   "metadata": {
    "papermill": {
     "duration": 0.003318,
     "end_time": "2023-03-10T11:50:25.949257",
     "exception": false,
     "start_time": "2023-03-10T11:50:25.945939",
     "status": "completed"
    },
    "tags": []
   },
   "outputs": [],
   "source": []
  },
  {
   "cell_type": "markdown",
   "id": "f0295329",
   "metadata": {
    "papermill": {
     "duration": 0.003415,
     "end_time": "2023-03-10T11:50:25.956187",
     "exception": false,
     "start_time": "2023-03-10T11:50:25.952772",
     "status": "completed"
    },
    "tags": []
   },
   "source": [
    "### Construct Sequence Class"
   ]
  },
  {
   "cell_type": "code",
   "execution_count": 3,
   "id": "03118e29",
   "metadata": {
    "execution": {
     "iopub.execute_input": "2023-03-10T11:50:25.965396Z",
     "iopub.status.busy": "2023-03-10T11:50:25.964960Z",
     "iopub.status.idle": "2023-03-10T11:50:25.977399Z",
     "shell.execute_reply": "2023-03-10T11:50:25.976115Z"
    },
    "papermill": {
     "duration": 0.020359,
     "end_time": "2023-03-10T11:50:25.980074",
     "exception": false,
     "start_time": "2023-03-10T11:50:25.959715",
     "status": "completed"
    },
    "tags": []
   },
   "outputs": [],
   "source": [
    "from tensorflow.keras.preprocessing.image import load_img\n",
    "\n",
    "# TODO: Re-implement for new Dataset structure\n",
    "class DataSequence(keras.utils.Sequence):\n",
    "    \"\"\"Sequence implementation to prepare data for training\"\"\"\n",
    "\n",
    "    def __init__(self, batch_size, img_size, images_paths, masks_paths):\n",
    "        self.batch_size = batch_size\n",
    "        self.img_size = img_size\n",
    "        self.images_paths = images_paths\n",
    "        self.masks_paths = masks_paths\n",
    "\n",
    "    def __len__(self):\n",
    "        return len(self.masks_paths) // self.batch_size\n",
    "\n",
    "    def __getitem__(self, idx):\n",
    "        \"\"\"Returns tuple (input, target) correspond to batch #idx.\"\"\"\n",
    "        i = idx * self.batch_size\n",
    "        batch_images_paths = self.images_paths[i : i + self.batch_size]\n",
    "        batch_masks_paths = self.masks_paths[i : i + self.batch_size]\n",
    "        x = np.zeros((self.batch_size,) + self.img_size + (3,), dtype=\"float32\")\n",
    "        for j, path in enumerate(batch_images_paths):\n",
    "            img = load_img(path, target_size=self.img_size)\n",
    "            x[j] = img\n",
    "        y = np.zeros((self.batch_size,) + self.img_size + (1,), dtype=\"uint8\")\n",
    "        for j, path in enumerate(batch_masks_paths):\n",
    "            img = load_img(path, target_size=self.img_size, color_mode=\"grayscale\")\n",
    "            y[j] = np.expand_dims(img, 2)\n",
    "        return x, y"
   ]
  },
  {
   "cell_type": "markdown",
   "id": "4150ece5",
   "metadata": {
    "papermill": {
     "duration": 0.003386,
     "end_time": "2023-03-10T11:50:25.987359",
     "exception": false,
     "start_time": "2023-03-10T11:50:25.983973",
     "status": "completed"
    },
    "tags": []
   },
   "source": [
    "### Instantiate Training and Validation Sequences"
   ]
  },
  {
   "cell_type": "code",
   "execution_count": null,
   "id": "54bd1ac7",
   "metadata": {
    "papermill": {
     "duration": 0.00336,
     "end_time": "2023-03-10T11:50:25.994414",
     "exception": false,
     "start_time": "2023-03-10T11:50:25.991054",
     "status": "completed"
    },
    "tags": []
   },
   "outputs": [],
   "source": []
  },
  {
   "cell_type": "markdown",
   "id": "2c2d9e5c",
   "metadata": {
    "papermill": {
     "duration": 0.003647,
     "end_time": "2023-03-10T11:50:26.001646",
     "exception": false,
     "start_time": "2023-03-10T11:50:25.997999",
     "status": "completed"
    },
    "tags": []
   },
   "source": [
    "## [3] Build Model Using Keras"
   ]
  }
 ],
 "metadata": {
  "kernelspec": {
   "display_name": "Python 3",
   "language": "python",
   "name": "python3"
  },
  "language_info": {
   "codemirror_mode": {
    "name": "ipython",
    "version": 3
   },
   "file_extension": ".py",
   "mimetype": "text/x-python",
   "name": "python",
   "nbconvert_exporter": "python",
   "pygments_lexer": "ipython3",
   "version": "3.7.12"
  },
  "papermill": {
   "default_parameters": {},
   "duration": 23.722768,
   "end_time": "2023-03-10T11:50:29.545942",
   "environment_variables": {},
   "exception": null,
   "input_path": "__notebook__.ipynb",
   "output_path": "__notebook__.ipynb",
   "parameters": {},
   "start_time": "2023-03-10T11:50:05.823174",
   "version": "2.4.0"
  }
 },
 "nbformat": 4,
 "nbformat_minor": 5
}
