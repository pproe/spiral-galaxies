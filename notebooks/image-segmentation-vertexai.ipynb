{
 "cells": [
  {
   "cell_type": "markdown",
   "metadata": {},
   "source": [
    "# Image Segmentation of Spiral Galaxies\n",
    "\n",
    "This notebook provides a detailed insight into the process that goes into the segmentation of spiral arms from images of spiral galaxies. This notebook accompanies the final year research project I completed for my Masters Degree in Professional Engineering (Software) at University of WA. The dataset used for this notebook is adapted from images retrieved from the 2nd public data release from the HSC data archive system, which is operated by Subaru Telescope and Astronomy Data Center at National Astronomical Observatory of Japan and classification of spiral galaxies from this dataset was achieved by [Tadaki et al.](https://arxiv.org/pdf/2006.13544.pdf) and all image content is a product of their work. You can register to access the HSC Data [here](https://hsc-release.mtk.nao.ac.jp/doc/index.php/data-access__pdr3/)."
   ]
  },
  {
   "cell_type": "markdown",
   "metadata": {},
   "source": [
    "## [1] Install Dependencies\n",
    "\n",
    "Here we will run the imports for packages that are used commonly throughout the notebook. Any other required packages will be imported within the code cell that they are required."
   ]
  },
  {
   "cell_type": "code",
   "execution_count": 1,
   "metadata": {},
   "outputs": [],
   "source": [
    "#!pip list\n",
    "#!pip install --upgrade --user tensorflow==2.11.0"
   ]
  },
  {
   "cell_type": "code",
   "execution_count": 1,
   "metadata": {},
   "outputs": [
    {
     "name": "stderr",
     "output_type": "stream",
     "text": [
      "2023-04-06 16:34:02.837482: I tensorflow/core/platform/cpu_feature_guard.cc:193] This TensorFlow binary is optimized with oneAPI Deep Neural Network Library (oneDNN) to use the following CPU instructions in performance-critical operations:  AVX2 FMA\n",
      "To enable them in other operations, rebuild TensorFlow with the appropriate compiler flags.\n",
      "2023-04-06 16:34:10.820024: W tensorflow/compiler/xla/stream_executor/platform/default/dso_loader.cc:64] Could not load dynamic library 'libnvinfer.so.7'; dlerror: libnvinfer.so.7: cannot open shared object file: No such file or directory; LD_LIBRARY_PATH: /usr/local/cuda/lib64:/usr/local/cuda/lib:/usr/local/lib/x86_64-linux-gnu:/usr/local/nvidia/lib:/usr/local/nvidia/lib64:/usr/local/nvidia/lib:/usr/local/nvidia/lib64\n",
      "2023-04-06 16:34:10.821184: W tensorflow/compiler/xla/stream_executor/platform/default/dso_loader.cc:64] Could not load dynamic library 'libnvinfer_plugin.so.7'; dlerror: libnvinfer_plugin.so.7: cannot open shared object file: No such file or directory; LD_LIBRARY_PATH: /usr/local/cuda/lib64:/usr/local/cuda/lib:/usr/local/lib/x86_64-linux-gnu:/usr/local/nvidia/lib:/usr/local/nvidia/lib64:/usr/local/nvidia/lib:/usr/local/nvidia/lib64\n",
      "2023-04-06 16:34:10.821212: W tensorflow/compiler/tf2tensorrt/utils/py_utils.cc:38] TF-TRT Warning: Cannot dlopen some TensorRT libraries. If you would like to use Nvidia GPU with TensorRT, please make sure the missing libraries mentioned above are installed properly.\n"
     ]
    }
   ],
   "source": [
    "import os\n",
    "\n",
    "import matplotlib.pyplot as plt\n",
    "import numpy as np\n",
    "import tensorflow as tf\n",
    "from tensorflow import keras\n",
    "from tensorflow.keras import layers\n",
    "tf.compat.v1.logging.set_verbosity(tf.compat.v1.logging.ERROR)"
   ]
  },
  {
   "cell_type": "markdown",
   "metadata": {},
   "source": [
    "## [2] Data Pre-Processing\n",
    "\n",
    "This section covers the functionality used to process the data prior to it being used in training the segmentation model. These functions take the images from the dataset (in the format of `.jpg` and `.tif` files) to a data format that is usable by the Tensorflow Keras API. To achieve a concise pipeline, a Keras Sequence class is used to load and vectorize the data before training the model."
   ]
  },
  {
   "cell_type": "markdown",
   "metadata": {},
   "source": [
    "### Configure Location of Data and Training Parameters"
   ]
  },
  {
   "cell_type": "code",
   "execution_count": 2,
   "metadata": {},
   "outputs": [],
   "source": [
    "images_dir = '../data/images/'\n",
    "masks_dir = '../data/masks/'\n",
    "img_size = (64, 64)\n",
    "\n",
    "val_split = 16 # % of total dataset to be used for validation\n",
    "test_split = 16 # % of total dataset to be used for testing\n",
    "val_batch_size = 1 # batch size per step\n",
    "test_batch_size = 1\n",
    "batch_size = 16"
   ]
  },
  {
   "cell_type": "markdown",
   "metadata": {},
   "source": [
    "### Load Dataset and Split Into Subsets"
   ]
  },
  {
   "cell_type": "code",
   "execution_count": 3,
   "metadata": {},
   "outputs": [
    {
     "name": "stdout",
     "output_type": "stream",
     "text": [
      "Found 100 files belonging to 1 classes.\n"
     ]
    },
    {
     "name": "stderr",
     "output_type": "stream",
     "text": [
      "2023-04-06 16:34:19.637581: I tensorflow/compiler/xla/stream_executor/cuda/cuda_gpu_executor.cc:981] successful NUMA node read from SysFS had negative value (-1), but there must be at least one NUMA node, so returning NUMA node zero\n",
      "2023-04-06 16:34:20.351339: I tensorflow/compiler/xla/stream_executor/cuda/cuda_gpu_executor.cc:981] successful NUMA node read from SysFS had negative value (-1), but there must be at least one NUMA node, so returning NUMA node zero\n",
      "2023-04-06 16:34:20.351635: I tensorflow/compiler/xla/stream_executor/cuda/cuda_gpu_executor.cc:981] successful NUMA node read from SysFS had negative value (-1), but there must be at least one NUMA node, so returning NUMA node zero\n",
      "2023-04-06 16:34:20.381818: I tensorflow/core/platform/cpu_feature_guard.cc:193] This TensorFlow binary is optimized with oneAPI Deep Neural Network Library (oneDNN) to use the following CPU instructions in performance-critical operations:  AVX2 FMA\n",
      "To enable them in other operations, rebuild TensorFlow with the appropriate compiler flags.\n",
      "2023-04-06 16:34:20.400437: I tensorflow/compiler/xla/stream_executor/cuda/cuda_gpu_executor.cc:981] successful NUMA node read from SysFS had negative value (-1), but there must be at least one NUMA node, so returning NUMA node zero\n",
      "2023-04-06 16:34:20.400719: I tensorflow/compiler/xla/stream_executor/cuda/cuda_gpu_executor.cc:981] successful NUMA node read from SysFS had negative value (-1), but there must be at least one NUMA node, so returning NUMA node zero\n",
      "2023-04-06 16:34:20.400917: I tensorflow/compiler/xla/stream_executor/cuda/cuda_gpu_executor.cc:981] successful NUMA node read from SysFS had negative value (-1), but there must be at least one NUMA node, so returning NUMA node zero\n",
      "2023-04-06 16:34:25.858610: I tensorflow/compiler/xla/stream_executor/cuda/cuda_gpu_executor.cc:981] successful NUMA node read from SysFS had negative value (-1), but there must be at least one NUMA node, so returning NUMA node zero\n",
      "2023-04-06 16:34:25.860054: I tensorflow/compiler/xla/stream_executor/cuda/cuda_gpu_executor.cc:981] successful NUMA node read from SysFS had negative value (-1), but there must be at least one NUMA node, so returning NUMA node zero\n",
      "2023-04-06 16:34:25.860433: I tensorflow/compiler/xla/stream_executor/cuda/cuda_gpu_executor.cc:981] successful NUMA node read from SysFS had negative value (-1), but there must be at least one NUMA node, so returning NUMA node zero\n",
      "2023-04-06 16:34:25.861535: I tensorflow/core/common_runtime/gpu/gpu_device.cc:1613] Created device /job:localhost/replica:0/task:0/device:GPU:0 with 15389 MB memory:  -> device: 0, name: Tesla P100-PCIE-16GB, pci bus id: 0000:00:04.0, compute capability: 6.0\n"
     ]
    },
    {
     "name": "stdout",
     "output_type": "stream",
     "text": [
      "Found 100 files belonging to 1 classes.\n"
     ]
    }
   ],
   "source": [
    "images_ds = tf.keras.utils.image_dataset_from_directory(images_dir, \n",
    "                                         labels=None, \n",
    "                                         color_mode='grayscale', \n",
    "                                         shuffle=False, \n",
    "                                         image_size=img_size, \n",
    "                                         batch_size=None)\n",
    "\n",
    "masks_ds = tf.keras.utils.image_dataset_from_directory(masks_dir, \n",
    "                                        labels=None, \n",
    "                                        color_mode='grayscale', \n",
    "                                        shuffle=False, \n",
    "                                        image_size=img_size, \n",
    "                                        batch_size=None)\n",
    "\n",
    "dataset = tf.data.Dataset.zip((images_ds, masks_ds))\n",
    "\n",
    "train_ds, test_ds = tf.keras.utils.split_dataset(dataset, \n",
    "                                 right_size=test_split/100, \n",
    "                                 shuffle=False)\n",
    "\n",
    "train_ds, val_ds = tf.keras.utils.split_dataset(train_ds, \n",
    "                                 right_size=val_split/(100-test_split), \n",
    "                                 shuffle=False)\n",
    "\n",
    "val_ds = val_ds.batch(val_batch_size)\n",
    "test_ds = test_ds.batch(test_batch_size)"
   ]
  },
  {
   "cell_type": "markdown",
   "metadata": {},
   "source": [
    "### Implement Data Augmentation Pipeline\n",
    "\n",
    "Using in-built Keras preprocessing sequential layers, here we build a pipeline that can be used to augment the training images from the dataset."
   ]
  },
  {
   "cell_type": "code",
   "execution_count": 7,
   "metadata": {},
   "outputs": [],
   "source": [
    "def augment(image, mask):\n",
    "    \n",
    "    aug_model = keras.Sequential(\n",
    "        layers = [\n",
    "            layers.RandomFlip(mode=\"horizontal_and_vertical\"),\n",
    "            layers.RandomRotation(0.8, fill_mode=\"constant\", interpolation='bilinear', fill_value=0),\n",
    "            layers.RandomTranslation(0.2,0.2, fill_mode=\"constant\", interpolation='bilinear', fill_value=0),\n",
    "            #layers.RandomZoom((-0.01, 0.01),(-0.01, 0.01),interpolation='nearest'),\n",
    "        ]\n",
    "    )\n",
    "\n",
    "    image_mask = tf.concat([image, mask], -1)\n",
    "    image_mask = aug_model(image_mask)\n",
    "    \n",
    "    image = image_mask[:,:,:,0]\n",
    "    mask = image_mask[:,:,:,1]\n",
    "    \n",
    "    image = tf.reshape(image, [-1, img_size[0], img_size[1], 1])\n",
    "    mask = tf.reshape(mask, [-1, img_size[0], img_size[1], 1])\n",
    "    \n",
    "    return image, mask\n",
    "\n",
    "aug_dataset = (\n",
    "\ttrain_ds\n",
    "    .repeat()\n",
    "    .batch(batch_size)\n",
    "    .map(lambda img,msk: augment(img, msk))\n",
    "    .prefetch(buffer_size=tf.data.AUTOTUNE)\n",
    ")"
   ]
  },
  {
   "cell_type": "markdown",
   "metadata": {},
   "source": [
    "### Demonstrate Data is Loaded Correctly\n",
    "\n",
    "The following plot should correctly display 4 examples from the augmented dataset of overlayed image segmentations."
   ]
  },
  {
   "cell_type": "code",
   "execution_count": 12,
   "metadata": {
    "_kg_hide-input": false
   },
   "outputs": [
    {
     "name": "stderr",
     "output_type": "stream",
     "text": [
      "2023-04-06 16:36:06.879087: I tensorflow/core/grappler/optimizers/data/replicate_on_split.cc:32] Running replicate on split optimization\n"
     ]
    },
    {
     "data": {
      "image/png": "[encoded data removed]",
      "text/plain": [
       "<Figure size 800x800 with 4 Axes>"
      ]
     },
     "metadata": {},
     "output_type": "display_data"
    }
   ],
   "source": [
    "plt.figure(figsize=(8,8))\n",
    "\n",
    "offset = np.random.randint(60)\n",
    "\n",
    "for n, (image, mask) in aug_dataset.unbatch().take(4).enumerate(start=offset).as_numpy_iterator():\n",
    "    \n",
    "    plt.subplot(2,2,n-offset+1)\n",
    "    plt.imshow(image, cmap='gray')\n",
    "    plt.imshow(mask, cmap='gnuplot', alpha=0.2)\n",
    "    plt.grid(False)\n",
    "    plt.xticks([])\n",
    "    plt.yticks([])\n",
    "    \n",
    "plt.show()"
   ]
  },
  {
   "cell_type": "markdown",
   "metadata": {},
   "source": [
    "### Pre-Build Augmented Data of Set Size\n",
    "\n"
   ]
  },
  {
   "cell_type": "code",
   "execution_count": 7,
   "metadata": {},
   "outputs": [],
   "source": [
    "batch_size = 16\n",
    "train_ds_aug = aug_dataset.unbatch().shuffle(1).take(10000).batch(batch_size)"
   ]
  },
  {
   "cell_type": "markdown",
   "metadata": {},
   "source": [
    "## [3] Build Model"
   ]
  },
  {
   "cell_type": "code",
   "execution_count": 13,
   "metadata": {},
   "outputs": [],
   "source": [
    "def get_unet(start_neurons = 16, kernel_size=(3, 3), dropout_prob=0.2):\n",
    "    \n",
    "    inputs = keras.Input(shape=img_size + (1,))\n",
    "    \n",
    "    c1 = layers.Conv2D(start_neurons, kernel_size, activation='relu', kernel_initializer='he_normal', padding='same')(inputs)\n",
    "    c1 = layers.Conv2D(start_neurons, kernel_size, activation='relu', kernel_initializer='he_normal', padding='same')(c1)\n",
    "    p1 = layers.MaxPooling2D((2, 2))(c1)\n",
    "    p1 = layers.Dropout(dropout_prob)(p1)    \n",
    "\n",
    "    c2 = layers.Conv2D(start_neurons*2, kernel_size, activation='relu', kernel_initializer='he_normal', padding='same')(p1)\n",
    "    c2 = layers.Conv2D(start_neurons*2, kernel_size, activation='relu', kernel_initializer='he_normal', padding='same')(c2)\n",
    "    p2 = layers.MaxPooling2D((2, 2))(c2)\n",
    "    p2 = layers.Dropout(dropout_prob)(p2)\n",
    "\n",
    "    c3 = layers.Conv2D(start_neurons*4, kernel_size, activation='relu', kernel_initializer='he_normal', padding='same')(p2)\n",
    "    #c3 = layers.Dropout(dropout_prob)(c3)\n",
    "    c3 = layers.Conv2D(start_neurons*4, kernel_size, activation='relu', kernel_initializer='he_normal', padding='same')(c3)\n",
    "    p3 = layers.MaxPooling2D((2, 2))(c3)\n",
    "    p3 = layers.Dropout(dropout_prob)(p3)\n",
    "\n",
    "    c4 = layers.Conv2D(start_neurons*8, kernel_size, activation='relu', kernel_initializer='he_normal', padding='same')(p3)\n",
    "    #c4 = layers.Dropout(dropout_prob)(c4)\n",
    "    c4 = layers.Conv2D(start_neurons*8, kernel_size, activation='relu', kernel_initializer='he_normal', padding='same')(c4)\n",
    "    p4 = layers.MaxPooling2D(pool_size=(2, 2))(c4)\n",
    "    p4 = layers.Dropout(dropout_prob)(p4)\n",
    "\n",
    "    c5 = layers.Conv2D(start_neurons*16, kernel_size, activation='relu', kernel_initializer='he_normal', padding='same')(p4)\n",
    "    #c5 = layers.Dropout(0.3)(c5)\n",
    "    c5 = layers.Conv2D(start_neurons*16, kernel_size, activation='relu', kernel_initializer='he_normal', padding='same')(c5)\n",
    "\n",
    "    u6 = layers.Conv2DTranspose(start_neurons*8, (2, 2), strides=(2, 2), padding='same')(c5)\n",
    "    u6 = layers.concatenate([u6, c4])\n",
    "    u6 = layers.Dropout(dropout_prob)(u6)\n",
    "    c6 = layers.Conv2D(start_neurons*8, kernel_size, activation='relu', kernel_initializer='he_normal', padding='same')(u6)\n",
    "    #c6 = layers.Dropout(dropout_prob)(c6)\n",
    "    c6 = layers.Conv2D(start_neurons*8, kernel_size, activation='relu', kernel_initializer='he_normal', padding='same')(c6)\n",
    "\n",
    "    u7 = layers.Conv2DTranspose(start_neurons*4, (2, 2), strides=(2, 2), padding='same')(c6)\n",
    "    u7 = layers.concatenate([u7, c3])\n",
    "    u7 = layers.Dropout(dropout_prob)(u7)\n",
    "    c7 = layers.Conv2D(start_neurons*4, kernel_size, activation='relu', kernel_initializer='he_normal', padding='same')(u7)\n",
    "    #c7 = layers.Dropout(dropout_prob)(c7)\n",
    "    c7 = layers.Conv2D(start_neurons*4, kernel_size, activation='relu', kernel_initializer='he_normal', padding='same')(c7)\n",
    "\n",
    "    u8 = layers.Conv2DTranspose(start_neurons*2, (2, 2), strides=(2, 2), padding='same')(c7)\n",
    "    u8 = layers.concatenate([u8, c2])\n",
    "    u8 = layers.Dropout(dropout_prob)(u8)\n",
    "    c8 = layers.Conv2D(start_neurons*2, kernel_size, activation='relu', kernel_initializer='he_normal', padding='same')(u8)\n",
    "    #c8 = layers.Dropout(0.1)(c8)\n",
    "    c8 = layers.Conv2D(start_neurons*2, kernel_size, activation='relu', kernel_initializer='he_normal', padding='same')(c8)\n",
    "\n",
    "    u9 = layers.Conv2DTranspose(start_neurons, (2, 2), strides=(2, 2), padding='same')(c8)\n",
    "    u9 = layers.concatenate([u9, c1])\n",
    "    u9 = layers.Dropout(dropout_prob)(u9)\n",
    "    c9 = layers.Conv2D(start_neurons, kernel_size, activation='relu', kernel_initializer='he_normal', padding='same')(u9)\n",
    "    #c9 = layers.Dropout(0.1)(c9)\n",
    "    c9 = layers.Conv2D(start_neurons, kernel_size, activation='relu', kernel_initializer='he_normal', padding='same')(c9)\n",
    "\n",
    "    outputs = layers.Conv2D(1, (1, 1), activation='sigmoid')(c9)\n",
    "    \n",
    "    return keras.Model(inputs, outputs, name='U-Net')\n",
    "\n",
    "#get_unet(8).summary()"
   ]
  },
  {
   "cell_type": "markdown",
   "metadata": {},
   "source": [
    "## [4] Train Model"
   ]
  },
  {
   "cell_type": "code",
   "execution_count": 9,
   "metadata": {},
   "outputs": [
    {
     "name": "stdout",
     "output_type": "stream",
     "text": [
      "Number of GPUs: 1\n",
      "Thu Apr  6 11:57:19 2023       \n",
      "+-----------------------------------------------------------------------------+\n",
      "| NVIDIA-SMI 510.47.03    Driver Version: 510.47.03    CUDA Version: 11.6     |\n",
      "|-------------------------------+----------------------+----------------------+\n",
      "| GPU  Name        Persistence-M| Bus-Id        Disp.A | Volatile Uncorr. ECC |\n",
      "| Fan  Temp  Perf  Pwr:Usage/Cap|         Memory-Usage | GPU-Util  Compute M. |\n",
      "|                               |                      |               MIG M. |\n",
      "|===============================+======================+======================|\n",
      "|   0  Tesla P100-PCIE...  Off  | 00000000:00:04.0 Off |                    0 |\n",
      "| N/A   36C    P0    32W / 250W |  15781MiB / 16384MiB |      0%      Default |\n",
      "|                               |                      |                  N/A |\n",
      "+-------------------------------+----------------------+----------------------+\n",
      "                                                                               \n",
      "+-----------------------------------------------------------------------------+\n",
      "| Processes:                                                                  |\n",
      "|  GPU   GI   CI        PID   Type   Process name                  GPU Memory |\n",
      "|        ID   ID                                                   Usage      |\n",
      "|=============================================================================|\n",
      "|    0   N/A  N/A     29385      C                                   15779MiB |\n",
      "+-----------------------------------------------------------------------------+\n"
     ]
    }
   ],
   "source": [
    "# Ensure tensorflow is using GPU\n",
    "physical_devices = tf.config.list_physical_devices('GPU')\n",
    "\n",
    "if(len(physical_devices) > 0):\n",
    "    print(f\"Number of GPUs: {len(physical_devices)}\")\n",
    "else:\n",
    "    print(\"No GPU detected... Running on CPU\")\n",
    "    \n",
    "!nvidia-smi"
   ]
  },
  {
   "cell_type": "code",
   "execution_count": 10,
   "metadata": {},
   "outputs": [],
   "source": [
    "import time\n",
    "import pandas as pd\n",
    "\n",
    "model = get_unet()\n",
    "\n",
    "epochs = 1000 # max number of epochs for training\n",
    "#steps_per_epoch = 100 # number of batches processed for each epoch\n",
    "\n",
    "\"\"\"\n",
    "Augmentation factor = how many times each image is seen per training epoch\n",
    "                    = steps_per_epoch*batch_size/num_training_images\n",
    "    e.g. 1000*16/68 = 235.3\n",
    "\"\"\"\n",
    "\n",
    "checkpoint_dir = os.path.dirname(time.strftime('model_checkpoints/%Y%m%d_%H_%M_%S/'))\n",
    "#log_dir = os.path.join('logs/fit/', checkpoint_dir, time.strftime('%Y%m%d_%H_%M_%S'))\n",
    "\n",
    "callbacks = [\n",
    "    keras.callbacks.ModelCheckpoint(os.path.join(checkpoint_dir, '{epoch:02d}-{val_loss:.4f}.keras'), save_best_only=True),\n",
    "    keras.callbacks.EarlyStopping(monitor='val_loss', patience=20, min_delta=0, restore_best_weights=True),\n",
    "    #keras.callbacks.TensorBoard(log_dir=log_dir, histogram_freq=1)\n",
    "]\n",
    "\n",
    "metrics = [\n",
    "    keras.metrics.BinaryIoU(name='Binary IoU', threshold=0.5),\n",
    "    #keras.metrics.BinaryCrossentropy(name='Binary Cross-Entropy'),\n",
    "    keras.metrics.BinaryAccuracy(name='Binary Accuracy', threshold=0.5),\n",
    "    #keras.metrics.Precision(name='Precision', thresholds=0.5),\n",
    "    #keras.metrics.Recall(name='Recall', thresholds=0.5)\n",
    "]\n",
    "\n",
    "optimizer = keras.optimizers.Adam(learning_rate=0.0001)\n",
    "\n",
    "model.compile(optimizer=optimizer, loss='binary_crossentropy', metrics=metrics)\n",
    "#model_history = model.fit(train_ds_aug, epochs=epochs, validation_data=val_ds, verbose=1, callbacks=callbacks)\n",
    "\n",
    "# Save history as csv\n",
    "#hist_csv_file = os.path.join(checkpoint_dir, 'history.csv')\n",
    "#with open(hist_csv_file, mode='w') as f:  \n",
    "    #hist_df = pd.DataFrame(model_history.history)\n",
    "    #hist_df.to_csv(f)"
   ]
  },
  {
   "cell_type": "markdown",
   "metadata": {},
   "source": [
    "### Tuning Hyperparameters"
   ]
  },
  {
   "cell_type": "code",
   "execution_count": null,
   "metadata": {},
   "outputs": [],
   "source": [
    "import time\n",
    "import pandas as pd\n",
    "import keras_tuner as kt\n",
    "\n",
    "def build_model(hp):\n",
    "    \n",
    "    # hyper parameters\n",
    "    hp_learning_rate = hp.Float(\"learning_rate\", min_value=0.00001, max_value=0.01, sampling=\"log\")\n",
    "    hp_kernel_size = hp.Choice('kernel_size', values=[3, 5])\n",
    "    hp_num_images = hp.Int(\"num_images\", min_value=340, max_value=13600, sampling='log')\n",
    "    \n",
    "    model = get_unet(16, (hp_kernel_size, hp_kernel_size), 0.2)\n",
    "\n",
    "    train_ds_aug = aug_dataset.unbatch().take(hp_num_images).shuffle(1).batch(16)\n",
    "    \n",
    "    #checkpoint_dir = os.path.dirname(time.strftime('model_checkpoints/%Y%m%d_%H_%M_%S/'))\n",
    "\n",
    "\n",
    "    metrics = [\n",
    "        keras.metrics.BinaryIoU(name='BinaryIoU', threshold=0.5),\n",
    "        keras.metrics.BinaryAccuracy(name='Binary Accuracy', threshold=0.5),\n",
    "    ]\n",
    "\n",
    "    optimizer = keras.optimizers.Adam(learning_rate=hp_learning_rate)\n",
    "\n",
    "    model.compile(optimizer=optimizer, loss='binary_crossentropy', metrics=metrics)\n",
    "\n",
    "    return model\n",
    "\n",
    "tuner = kt.BayesianOptimization(build_model,\n",
    "                     objective=[kt.Objective(\"val_BinaryIoU\", direction=\"max\"), kt.Objective(\"val_loss\", direction='min'), ],\n",
    "                     max_trials=20,\n",
    "                     directory='tuning',\n",
    "                     project_name='spiral_segmentation_2', overwrite=False)\n",
    "\n",
    "callbacks = [\n",
    "    #keras.callbacks.ModelCheckpoint(os.path.join(checkpoint_dir, '{epoch:02d}-{val_loss:.4f}.keras'), save_best_only=True),\n",
    "    keras.callbacks.EarlyStopping(monitor='val_loss', patience=10, min_delta=0, restore_best_weights=True),\n",
    "]\n",
    "\n",
    "#tuner.search_space_summary()\n",
    "tuner.search(train_ds_aug, epochs=200, validation_data=val_ds, verbose=1, callbacks=callbacks)\n",
    "\n",
    "tuner.results_summary()\n",
    "# Get the optimal hyperparameters\n",
    "#best_hps=tuner.get_best_hyperparameters(num_trials=1)[0]"
   ]
  },
  {
   "cell_type": "code",
   "execution_count": null,
   "metadata": {},
   "outputs": [],
   "source": [
    "import math\n",
    "125 * (math.log(125, 3) ** 2) * 0.2 / 60"
   ]
  },
  {
   "cell_type": "markdown",
   "metadata": {},
   "source": [
    "## [5] Test Model and Assess Performance"
   ]
  },
  {
   "cell_type": "code",
   "execution_count": null,
   "metadata": {},
   "outputs": [],
   "source": [
    "test_preds = model.predict(test_ds)\n",
    "\n",
    "plt.figure(figsize=(12,60))\n",
    "\n",
    "for n, (gt_img, gt_mask) in enumerate(test_ds.unbatch().take(15)):\n",
    "    \n",
    "    plt.subplot(15,3,3*n+1)\n",
    "    plt.imshow(gt_img, cmap='gray', alpha=1)\n",
    "    plt.grid(False)\n",
    "    plt.xticks([])\n",
    "    plt.yticks([])\n",
    "    \n",
    "    plt.subplot(15,3,3*n+2)\n",
    "    plt.imshow(gt_mask, cmap='gnuplot', alpha=1)\n",
    "    plt.grid(False)\n",
    "    plt.xticks([])\n",
    "    plt.yticks([])\n",
    "    \n",
    "    plt.subplot(15,3,3*n+3)\n",
    "    plt.imshow(test_preds[n], cmap='gnuplot', alpha=1)\n",
    "    plt.grid(False)\n",
    "    plt.xticks([])\n",
    "    plt.yticks([])\n",
    "    \n",
    "os.mkdir(os.path.join(checkpoint_dir, 'analysis'))\n",
    "plt.savefig(os.path.join(checkpoint_dir, 'analysis', 'test_predictions.png'))\n",
    "plt.show()\n"
   ]
  },
  {
   "cell_type": "code",
   "execution_count": null,
   "metadata": {
    "tags": []
   },
   "outputs": [],
   "source": [
    "fig, ax = plt.subplots(nrows=1, ncols=2, figsize=(15, 5))\n",
    "\n",
    "epochs = range(len(model_history.history[\"loss\"]))\n",
    "loss = model_history.history[\"loss\"]\n",
    "val_loss = model_history.historyfig, ax = plt.subplots(nrows=1, ncols=2, figsize=(15,5))\n",
    "\n",
    "metric_epochs = range(len(model_history.history['loss']))\n",
    "metric_loss = model_history.history['loss']\n",
    "metric_val_loss = model_history.history['val_loss']\n",
    "\n",
    "ax[0].plot(metric_epochs[5:], metric_loss[5:], 'r', label='Training')\n",
    "ax[0].plot(metric_epochs[5:], metric_val_loss[5:], 'bo', label='Validation')\n",
    "ax[0].set_title('Training and Validation Loss')\n",
    "ax[0].set_xlabel('Epoch')\n",
    "ax[0].set_ylabel('Loss Value')\n",
    "ax[0].legend()\n",
    "\n",
    "metric_iou = model_history.history['Binary IoU']\n",
    "metric_val_iou = model_history.history['val_Binary IoU']\n",
    "\n",
    "ax[1].plot(metric_epochs, metric_iou, 'r', label='Training')\n",
    "ax[1].plot(metric_epochs, metric_val_iou, 'bo', label='Validation')\n",
    "ax[1].set_title('Training and Validation IoU')\n",
    "ax[1].set_xlabel('Epoch')\n",
    "ax[1].set_ylabel('IoU Value')\n",
    "ax[1].legend()\n",
    "plt.savefig(os.path.join(checkpoint_dir, 'analysis', 'metrics.png'))\n",
    "plt.show()[\"val_loss\"]\n",
    "\n",
    "ax[0].plot(epochs, loss, \"r\", label=\"Training\")\n",
    "ax[0].plot(epochs, val_loss, \"bo\", label=\"Validation\")\n",
    "ax[0].set_title(\"Training and Validation Loss\")\n",
    "ax[0].set_xlabel(\"Epoch\")\n",
    "ax[0].set_ylabel(\"Loss Value\")\n",
    "ax[0].legend()\n",
    "\n",
    "iou = model_history.history[\"Binary IoU\"]\n",
    "val_iou = model_history.history[\"val_Binary IoU\"]\n",
    "\n",
    "ax[1].plot(epochs, iou, \"r\", label=\"Training\")\n",
    "ax[1].plot(epochs, val_iou, \"bo\", label=\"Validation\")\n",
    "ax[1].set_title(\"Training and Validation IoU\")\n",
    "ax[1].set_xlabel(\"Epoch\")\n",
    "ax[1].set_ylabel(\"IoU Value\")\n",
    "ax[1].legend()\n",
    "plt.show()"
   ]
  },
  {
   "cell_type": "markdown",
   "metadata": {},
   "source": [
    "# Image Segmentation of Spiral Galaxies\n",
    "\n",
    "This notebook provides a detailed insight into the process that goes into the segmentation of spiral arms from images of spiral galaxies. This notebook accompanies the final year research project I completed for my Masters Degree in Professional Engineering (Software) at University of WA. The dataset used for this notebook is adapted from images retrieved from the 2nd public data release from the HSC data archive system, which is operated by Subaru Telescope and Astronomy Data Center at National Astronomical Observatory of Japan and classification of spiral galaxies from this dataset was achieved by [Tadaki et al.](https://arxiv.org/pdf/2006.13544.pdf) and all image content is a product of their work. You can register to access the HSC Data [here](https://hsc-release.mtk.nao.ac.jp/doc/index.php/data-access__pdr3/)."
   ]
  },
  {
   "cell_type": "markdown",
   "metadata": {},
   "source": [
    "## [1] Install Dependencies\n",
    "\n",
    "Here we will run the imports for packages that are used commonly throughout the notebook. Any other required packages will be imported within the code cell that they are required."
   ]
  },
  {
   "cell_type": "code",
   "execution_count": null,
   "metadata": {},
   "outputs": [],
   "source": [
    "#!pip list\n",
    "#!pip install --upgrade --user tensorflow==2.11.0"
   ]
  },
  {
   "cell_type": "code",
   "execution_count": null,
   "metadata": {},
   "outputs": [],
   "source": [
    "import os\n",
    "\n",
    "import matplotlib.pyplot as plt\n",
    "import numpy as np\n",
    "import tensorflow as tf\n",
    "from tensorflow import keras\n",
    "from tensorflow.keras import layers\n",
    "tf.compat.v1.logging.set_verbosity(tf.compat.v1.logging.ERROR)"
   ]
  },
  {
   "cell_type": "markdown",
   "metadata": {},
   "source": [
    "## [2] Data Pre-Processing\n",
    "\n",
    "This section covers the functionality used to process the data prior to it being used in training the segmentation model. These functions take the images from the dataset (in the format of `.jpg` and `.tif` files) to a data format that is usable by the Tensorflow Keras API. To achieve a concise pipeline, a Keras Sequence class is used to load and vectorize the data before training the model."
   ]
  },
  {
   "cell_type": "markdown",
   "metadata": {},
   "source": [
    "### Configure Location of Data and Training Parameters"
   ]
  },
  {
   "cell_type": "code",
   "execution_count": null,
   "metadata": {},
   "outputs": [],
   "source": [
    "images_dir = '../data/images/'\n",
    "masks_dir = '../data/masks/'\n",
    "img_size = (64, 64)\n",
    "\n",
    "val_split = 16 # % of total dataset to be used for validation\n",
    "test_split = 16 # % of total dataset to be used for testing\n",
    "val_batch_size = 1 # batch size per step\n",
    "test_batch_size = 1\n",
    "batch_size = 16"
   ]
  },
  {
   "cell_type": "markdown",
   "metadata": {},
   "source": [
    "### Load Dataset and Split Into Subsets"
   ]
  },
  {
   "cell_type": "code",
   "execution_count": null,
   "metadata": {},
   "outputs": [],
   "source": [
    "images_ds = tf.keras.utils.image_dataset_from_directory(images_dir, \n",
    "                                         labels=None, \n",
    "                                         color_mode='grayscale', \n",
    "                                         shuffle=False, \n",
    "                                         image_size=img_size, \n",
    "                                         batch_size=None)\n",
    "\n",
    "masks_ds = tf.keras.utils.image_dataset_from_directory(masks_dir, \n",
    "                                        labels=None, \n",
    "                                        color_mode='grayscale', \n",
    "                                        shuffle=False, \n",
    "                                        image_size=img_size, \n",
    "                                        batch_size=None)\n",
    "\n",
    "dataset = tf.data.Dataset.zip((images_ds, masks_ds))\n",
    "\n",
    "train_ds, test_ds = tf.keras.utils.split_dataset(dataset, \n",
    "                                 right_size=test_split/100, \n",
    "                                 shuffle=False)\n",
    "\n",
    "train_ds, val_ds = tf.keras.utils.split_dataset(train_ds, \n",
    "                                 right_size=val_split/(100-test_split), \n",
    "                                 shuffle=False)\n",
    "\n",
    "val_ds = val_ds.batch(val_batch_size)\n",
    "test_ds = test_ds.batch(test_batch_size)"
   ]
  },
  {
   "cell_type": "markdown",
   "metadata": {},
   "source": [
    "### Implement Data Augmentation Pipeline\n",
    "\n",
    "Using in-built Keras preprocessing sequential layers, here we build a pipeline that can be used to augment the training images from the dataset."
   ]
  },
  {
   "cell_type": "code",
   "execution_count": null,
   "metadata": {},
   "outputs": [],
   "source": [
    "def augment(image, mask):\n",
    "    \n",
    "    aug_model = keras.Sequential(\n",
    "        layers = [\n",
    "            layers.RandomFlip(mode=\"horizontal_and_vertical\"),\n",
    "            layers.RandomRotation((-0.25, 0.25), fill_mode=\"constant\", interpolation='nearest', fill_value=0),\n",
    "            layers.RandomTranslation(0.2,0.2, fill_mode=\"constant\", interpolation='nearest', fill_value=0),\n",
    "            layers.RandomZoom((-0.01, 0.01),(-0.01, 0.01),interpolation='nearest'),\n",
    "        ]\n",
    "    )\n",
    "\n",
    "    image_mask = tf.concat([image, mask], -1)\n",
    "    image_mask = aug_model(image_mask)\n",
    "    \n",
    "    image = image_mask[:,:,:,0]\n",
    "    mask = image_mask[:,:,:,1]\n",
    "    \n",
    "    image = tf.reshape(image, [-1, img_size[0], img_size[1], 1])\n",
    "    mask = tf.reshape(mask, [-1, img_size[0], img_size[1], 1])\n",
    "    \n",
    "    return image, mask\n",
    "\n",
    "aug_dataset = (\n",
    "\ttrain_ds\n",
    "    .repeat()\n",
    "    .batch(batch_size)\n",
    "    .map(lambda img,msk: augment(img, msk))\n",
    "    .prefetch(buffer_size=tf.data.AUTOTUNE)\n",
    ")"
   ]
  },
  {
   "cell_type": "markdown",
   "metadata": {},
   "source": [
    "### Demonstrate Data is Loaded Correctly\n",
    "\n",
    "The following plot should correctly display 4 examples from the augmented dataset of overlayed image segmentations."
   ]
  },
  {
   "cell_type": "code",
   "execution_count": null,
   "metadata": {
    "_kg_hide-input": false
   },
   "outputs": [],
   "source": [
    "plt.figure(figsize=(8,8))\n",
    "\n",
    "offset = np.random.randint(60)\n",
    "\n",
    "for n, (image, mask) in aug_dataset.unbatch().take(4).enumerate(start=offset).as_numpy_iterator():\n",
    "    \n",
    "    plt.subplot(2,2,n-offset+1)\n",
    "    plt.imshow(image, cmap='gray')\n",
    "    plt.imshow(mask, cmap='gnuplot', alpha=0.2)\n",
    "    plt.grid(False)\n",
    "    plt.xticks([])\n",
    "    plt.yticks([])\n",
    "    \n",
    "plt.show()"
   ]
  },
  {
   "cell_type": "markdown",
   "metadata": {},
   "source": [
    "### Pre-Build Augmented Data of Set Size\n",
    "\n"
   ]
  },
  {
   "cell_type": "code",
   "execution_count": null,
   "metadata": {},
   "outputs": [],
   "source": [
    "batch_size = 16\n",
    "train_ds_aug = aug_dataset.unbatch().shuffle(1).take(10000).batch(batch_size)"
   ]
  },
  {
   "cell_type": "markdown",
   "metadata": {},
   "source": [
    "## [3] Build Model"
   ]
  },
  {
   "cell_type": "code",
   "execution_count": null,
   "metadata": {},
   "outputs": [],
   "source": [
    "def get_unet(start_neurons = 16, kernel_size=(3, 3), dropout_prob=0.2):\n",
    "    \n",
    "    inputs = keras.Input(shape=img_size + (1,))\n",
    "    \n",
    "    c1 = layers.Conv2D(start_neurons, kernel_size, activation='relu', kernel_initializer='he_normal', padding='same')(inputs)\n",
    "    c1 = layers.Conv2D(start_neurons, kernel_size, activation='relu', kernel_initializer='he_normal', padding='same')(c1)\n",
    "    p1 = layers.MaxPooling2D((2, 2))(c1)\n",
    "    p1 = layers.Dropout(dropout_prob)(p1)    \n",
    "\n",
    "    c2 = layers.Conv2D(start_neurons*2, kernel_size, activation='relu', kernel_initializer='he_normal', padding='same')(p1)\n",
    "    c2 = layers.Conv2D(start_neurons*2, kernel_size, activation='relu', kernel_initializer='he_normal', padding='same')(c2)\n",
    "    p2 = layers.MaxPooling2D((2, 2))(c2)\n",
    "    p2 = layers.Dropout(dropout_prob)(p2)\n",
    "\n",
    "    c3 = layers.Conv2D(start_neurons*4, kernel_size, activation='relu', kernel_initializer='he_normal', padding='same')(p2)\n",
    "    #c3 = layers.Dropout(dropout_prob)(c3)\n",
    "    c3 = layers.Conv2D(start_neurons*4, kernel_size, activation='relu', kernel_initializer='he_normal', padding='same')(c3)\n",
    "    p3 = layers.MaxPooling2D((2, 2))(c3)\n",
    "    p3 = layers.Dropout(dropout_prob)(p3)\n",
    "\n",
    "    c4 = layers.Conv2D(start_neurons*8, kernel_size, activation='relu', kernel_initializer='he_normal', padding='same')(p3)\n",
    "    #c4 = layers.Dropout(dropout_prob)(c4)\n",
    "    c4 = layers.Conv2D(start_neurons*8, kernel_size, activation='relu', kernel_initializer='he_normal', padding='same')(c4)\n",
    "    p4 = layers.MaxPooling2D(pool_size=(2, 2))(c4)\n",
    "    p4 = layers.Dropout(dropout_prob)(p4)\n",
    "\n",
    "    c5 = layers.Conv2D(start_neurons*16, kernel_size, activation='relu', kernel_initializer='he_normal', padding='same')(p4)\n",
    "    #c5 = layers.Dropout(0.3)(c5)\n",
    "    c5 = layers.Conv2D(start_neurons*16, kernel_size, activation='relu', kernel_initializer='he_normal', padding='same')(c5)\n",
    "\n",
    "    u6 = layers.Conv2DTranspose(start_neurons*8, (2, 2), strides=(2, 2), padding='same')(c5)\n",
    "    u6 = layers.concatenate([u6, c4])\n",
    "    u6 = layers.Dropout(dropout_prob)(u6)\n",
    "    c6 = layers.Conv2D(start_neurons*8, kernel_size, activation='relu', kernel_initializer='he_normal', padding='same')(u6)\n",
    "    #c6 = layers.Dropout(dropout_prob)(c6)\n",
    "    c6 = layers.Conv2D(start_neurons*8, kernel_size, activation='relu', kernel_initializer='he_normal', padding='same')(c6)\n",
    "\n",
    "    u7 = layers.Conv2DTranspose(start_neurons*4, (2, 2), strides=(2, 2), padding='same')(c6)\n",
    "    u7 = layers.concatenate([u7, c3])\n",
    "    u7 = layers.Dropout(dropout_prob)(u7)\n",
    "    c7 = layers.Conv2D(start_neurons*4, kernel_size, activation='relu', kernel_initializer='he_normal', padding='same')(u7)\n",
    "    #c7 = layers.Dropout(dropout_prob)(c7)\n",
    "    c7 = layers.Conv2D(start_neurons*4, kernel_size, activation='relu', kernel_initializer='he_normal', padding='same')(c7)\n",
    "\n",
    "    u8 = layers.Conv2DTranspose(start_neurons*2, (2, 2), strides=(2, 2), padding='same')(c7)\n",
    "    u8 = layers.concatenate([u8, c2])\n",
    "    u8 = layers.Dropout(dropout_prob)(u8)\n",
    "    c8 = layers.Conv2D(start_neurons*2, kernel_size, activation='relu', kernel_initializer='he_normal', padding='same')(u8)\n",
    "    #c8 = layers.Dropout(0.1)(c8)\n",
    "    c8 = layers.Conv2D(start_neurons*2, kernel_size, activation='relu', kernel_initializer='he_normal', padding='same')(c8)\n",
    "\n",
    "    u9 = layers.Conv2DTranspose(start_neurons, (2, 2), strides=(2, 2), padding='same')(c8)\n",
    "    u9 = layers.concatenate([u9, c1])\n",
    "    u9 = layers.Dropout(dropout_prob)(u9)\n",
    "    c9 = layers.Conv2D(start_neurons, kernel_size, activation='relu', kernel_initializer='he_normal', padding='same')(u9)\n",
    "    #c9 = layers.Dropout(0.1)(c9)\n",
    "    c9 = layers.Conv2D(start_neurons, kernel_size, activation='relu', kernel_initializer='he_normal', padding='same')(c9)\n",
    "\n",
    "    outputs = layers.Conv2D(1, (1, 1), activation='sigmoid')(c9)\n",
    "    \n",
    "    return keras.Model(inputs, outputs, name='U-Net')\n",
    "\n",
    "#get_unet(8).summary()"
   ]
  },
  {
   "cell_type": "markdown",
   "metadata": {},
   "source": [
    "## [4] Train Model"
   ]
  },
  {
   "cell_type": "code",
   "execution_count": null,
   "metadata": {},
   "outputs": [],
   "source": [
    "# Ensure tensorflow is using GPU\n",
    "physical_devices = tf.config.list_physical_devices('GPU')\n",
    "\n",
    "if(len(physical_devices) > 0):\n",
    "    print(f\"Number of GPUs: {len(physical_devices)}\")\n",
    "else:\n",
    "    print(\"No GPU detected... Running on CPU\")\n",
    "    \n",
    "!nvidia-smi"
   ]
  },
  {
   "cell_type": "code",
   "execution_count": null,
   "metadata": {},
   "outputs": [],
   "source": [
    "import time\n",
    "import pandas as pd\n",
    "\n",
    "model = get_unet()\n",
    "\n",
    "epochs = 1000 # max number of epochs for training\n",
    "#steps_per_epoch = 100 # number of batches processed for each epoch\n",
    "\n",
    "\"\"\"\n",
    "Augmentation factor = how many times each image is seen per training epoch\n",
    "                    = steps_per_epoch*batch_size/num_training_images\n",
    "    e.g. 1000*16/68 = 235.3\n",
    "\"\"\"\n",
    "\n",
    "checkpoint_dir = os.path.dirname(time.strftime('model_checkpoints/%Y%m%d_%H_%M_%S/'))\n",
    "#log_dir = os.path.join('logs/fit/', checkpoint_dir, time.strftime('%Y%m%d_%H_%M_%S'))\n",
    "\n",
    "callbacks = [\n",
    "    keras.callbacks.ModelCheckpoint(os.path.join(checkpoint_dir, '{epoch:02d}-{val_loss:.4f}.keras'), save_best_only=True),\n",
    "    keras.callbacks.EarlyStopping(monitor='val_loss', patience=20, min_delta=0, restore_best_weights=True),\n",
    "    #keras.callbacks.TensorBoard(log_dir=log_dir, histogram_freq=1)\n",
    "]\n",
    "\n",
    "metrics = [\n",
    "    keras.metrics.BinaryIoU(name='Binary IoU', threshold=0.5),\n",
    "    #keras.metrics.BinaryCrossentropy(name='Binary Cross-Entropy'),\n",
    "    keras.metrics.BinaryAccuracy(name='Binary Accuracy', threshold=0.5),\n",
    "    #keras.metrics.Precision(name='Precision', thresholds=0.5),\n",
    "    #keras.metrics.Recall(name='Recall', thresholds=0.5)\n",
    "]\n",
    "\n",
    "optimizer = keras.optimizers.Adam(learning_rate=0.0001)\n",
    "\n",
    "model.compile(optimizer=optimizer, loss='binary_crossentropy', metrics=metrics)\n",
    "#model_history = model.fit(train_ds_aug, epochs=epochs, validation_data=val_ds, verbose=1, callbacks=callbacks)\n",
    "\n",
    "# Save history as csv\n",
    "#hist_csv_file = os.path.join(checkpoint_dir, 'history.csv')\n",
    "#with open(hist_csv_file, mode='w') as f:  \n",
    "    #hist_df = pd.DataFrame(model_history.history)\n",
    "    #hist_df.to_csv(f)"
   ]
  },
  {
   "cell_type": "markdown",
   "metadata": {},
   "source": [
    "### Tuning Hyperparameters"
   ]
  },
  {
   "cell_type": "code",
   "execution_count": null,
   "metadata": {},
   "outputs": [],
   "source": [
    "import time\n",
    "import pandas as pd\n",
    "import keras_tuner as kt\n",
    "from typing import Callable\n",
    "\n",
    "def binary_tversky_coef(y_true: tf.Tensor, y_pred: tf.Tensor, beta: float, smooth: float = 1.) -> tf.Tensor:\n",
    "    \"\"\"\n",
    "    Tversky coefficient is a generalization of the Dice's coefficient. It adds an extra weight (β) to false positives\n",
    "    and false negatives:\n",
    "        TC(p, p̂) = p*p̂/[p*p̂ + β*(1-p)*p̂ + (1-β)*p*(1-p̂)]\n",
    "    When β=1/2, Tversky coefficient is equal to the Dice's coefficient:\n",
    "        TL(p, p̂) = p*p̂/[p*p̂ + (1/2)*(1-p)*p̂ + (1-(1/2))*p*(1-p̂)]\n",
    "        = p*p̂/[p*p̂ + (1/2)*p̂ - (1/2)*p*p̂ + (1/2)*p*(1-p̂)]\n",
    "        = p*p̂/[p*p̂ + (1/2)*p̂ - (1/2)*p*p̂ + (1/2)*p - (1/2)*p*p̂)]\n",
    "        = p*p̂/[p*p - p*p̂̂ + (1/2)*p̂ + (1/2)*p]\n",
    "        = p*p̂/[(1/2)*p̂ + (1/2)*p]\n",
    "        = p*p̂/[(1/2)*(p̂+p)]\n",
    "        = 2*p*p̂/(p̂+p)\n",
    "    :param y_true: True masks (tf.Tensor, shape=(<BATCH_SIZE>, <IMAGE_HEIGHT>, <IMAGE_WIDTH>, 1))\n",
    "    :param y_pred: Predicted masks (tf.Tensor, shape=(<BATCH_SIZE>, <IMAGE_HEIGHT>, <IMAGE_WIDTH>, 1))\n",
    "    :param beta: Weight coefficient (float)\n",
    "    :param smooth: Smoothing factor (float, default = 1.)\n",
    "    :return: Tversky coefficient (tf.Tensor, shape=(<BATCH_SIZE>, <IMAGE_HEIGHT>, <IMAGE_WIDTH>))\n",
    "    \"\"\"\n",
    "    axis_to_reduce = range(1, keras.backend.ndim(y_pred))  # All axis but first (batch)\n",
    "    numerator = keras.backend.sum(y_true * y_pred, axis=axis_to_reduce)  # p*p̂\n",
    "    denominator = y_true * y_pred + beta * (1 - y_true) * y_pred + (1 - beta) * y_true * (1 - y_pred)  # p*p̂ + β*(1-p)*p̂ + (1-β)*p*(1-p̂)\n",
    "    denominator = keras.backend.sum(denominator, axis=axis_to_reduce)\n",
    "\n",
    "    return (numerator + smooth) / (denominator + smooth)  # (p*p̂ + smooth)/[p*p̂ + β*(1-p)*p̂ + (1-β)*p*(1-p̂) + smooth]\n",
    "\n",
    "def binary_dice_coef_loss(smooth: float = 1.) -> Callable[[tf.Tensor, tf.Tensor], tf.Tensor]:\n",
    "    \"\"\"\n",
    "    Dice coefficient loss:\n",
    "        DL(p, p̂) = 1 - (2*p*p̂+smooth)/(p+p̂+smooth)\n",
    "    Used as loss function for binary image segmentation with one-hot encoded masks.\n",
    "    :param smooth: Smoothing factor (float, default=1.)\n",
    "    :return: Dice coefficient loss function (Callable[[tf.Tensor, tf.Tensor], tf.Tensor])\n",
    "    \"\"\"\n",
    "    def loss(y_true: tf.Tensor, y_pred: tf.Tensor) -> tf.Tensor:\n",
    "        \"\"\"\n",
    "        Compute the Dice loss (Tversky loss with β=0.5).\n",
    "        :param y_true: True masks (tf.Tensor, shape=(<BATCH_SIZE>, <IMAGE_HEIGHT>, <IMAGE_WIDTH>, 1))\n",
    "        :param y_pred: Predicted masks (tf.Tensor, shape=(<BATCH_SIZE>, <IMAGE_HEIGHT>, <IMAGE_WIDTH>, 1))\n",
    "        :return: Dice coefficient loss for each observation in batch (tf.Tensor, shape=(<BATCH_SIZE>,))\n",
    "        \"\"\"\n",
    "        return 1 - binary_tversky_coef(y_true=y_true, y_pred=y_pred, beta=0.5, smooth=smooth)\n",
    "\n",
    "    return loss\n",
    "\n",
    "def binary_tversky_loss(beta: float) -> Callable[[tf.Tensor, tf.Tensor], tf.Tensor]:\n",
    "    \"\"\"\n",
    "    Tversky loss:\n",
    "        TL(p, p̂) = 1 - p*p̂/[p*p̂ + β*(1-p)*p̂ + (1-β)*p*(1-p̂)]\n",
    "    Used as loss function for binary image segmentation with one-hot encoded masks.\n",
    "    :param beta: Weight coefficient (float)\n",
    "    :return: Tversky loss function (Callable[[tf.Tensor, tf.Tensor], tf.Tensor])\n",
    "    \"\"\"\n",
    "    def loss(y_true: tf.Tensor, y_pred: tf.Tensor) -> tf.Tensor:\n",
    "        \"\"\"\n",
    "        Compute the Tversky loss.\n",
    "        :param y_true: True masks (tf.Tensor, shape=(<BATCH_SIZE>, <IMAGE_HEIGHT>, <IMAGE_WIDTH>, 1))\n",
    "        :param y_pred: Predicted masks (tf.Tensor, shape=(<BATCH_SIZE>, <IMAGE_HEIGHT>, <IMAGE_WIDTH>, 1))\n",
    "        :return: Tversky loss (tf.Tensor, shape=(<BATCH_SIZE>,))\n",
    "        \"\"\"\n",
    "        return 1-binary_tversky_coef(y_true, y_pred, beta=beta)\n",
    "\n",
    "    return loss\n",
    "\n",
    "\n",
    "def build_model(hp):\n",
    "    \n",
    "    epochs = 200 # max number of epochs for training\n",
    "    \n",
    "    # loss functions\n",
    "    loss_dict = {\n",
    "        'dice_loss': binary_dice_coef_loss(),\n",
    "        'tversky_loss': binary_tversky_loss(0.5),\n",
    "        'binary_focal_crossentropy': 'binary_focal_crossentropy',\n",
    "        'binary_crossentropy': 'binary_crossentropy'\n",
    "    }\n",
    "    \n",
    "    # hyper parameters\n",
    "    hp_learning_rate = hp.Choice('learning_rate', values=[1e-2, 1e-3, 1e-4, 1e-5])\n",
    "    hp_batch_size = hp.Choice('batch_size', values=[8, 16, 32, 64, 128])\n",
    "    hp_kernel_size = hp.Choice('kernel_size', values=[3, 5, 7])\n",
    "    hp_start_neurons = hp.Choice('start_neurons', values=[8, 16])\n",
    "    hp_dropout_prob = hp.Choice('dropout_prob', values=[0.1, 0.2, 0.3])\n",
    "    hp_loss = hp.Choice('loss', values=['binary_focal_crossentropy', 'binary_crossentropy', 'tversky_loss', 'dice_loss'])\n",
    "    \n",
    "    model = get_unet(hp_start_neurons, (hp_kernel_size, hp_kernel_size), hp_dropout_prob)\n",
    "\n",
    "    train_ds_aug = aug_dataset.unbatch().shuffle(1, seed=37).take(10000).batch(hp_batch_size)\n",
    "    \n",
    "    #checkpoint_dir = os.path.dirname(time.strftime('model_checkpoints/%Y%m%d_%H_%M_%S/'))\n",
    "\n",
    "\n",
    "    metrics = [\n",
    "        keras.metrics.BinaryIoU(name='Binary IoU', threshold=0.5),\n",
    "        keras.metrics.BinaryAccuracy(name='Binary Accuracy', threshold=0.5),\n",
    "    ]\n",
    "\n",
    "    optimizer = keras.optimizers.Adam(learning_rate=hp_learning_rate)\n",
    "\n",
    "    model.compile(optimizer=optimizer, loss=loss_dict[hp_loss], metrics=metrics)\n",
    "\n",
    "    return model\n",
    "\n",
    "tuner = kt.Hyperband(build_model,\n",
    "                     objective=kt.Objective(\"val_Binary IoU\", direction=\"max\"),\n",
    "                     max_epochs=200,\n",
    "                     factor=3,\n",
    "                     directory='tuning',\n",
    "                     project_name='spiral_segmentation', overwrite=False)\n",
    "\n",
    "callbacks = [\n",
    "    #keras.callbacks.ModelCheckpoint(os.path.join(checkpoint_dir, '{epoch:02d}-{val_loss:.4f}.keras'), save_best_only=True),\n",
    "    keras.callbacks.EarlyStopping(monitor='val_loss', patience=20, min_delta=0, restore_best_weights=True),\n",
    "]\n",
    "\n",
    "tuner.search(train_ds_aug, epochs=200, validation_data=val_ds, verbose=1, callbacks=callbacks)\n",
    "\n",
    "# Get the optimal hyperparameters\n",
    "best_hps=tuner.get_best_hyperparameters(num_trials=1)[0]\n",
    "\n",
    "print(f\"\"\"\n",
    "The hyperparameter search is complete. The optimal number of units in the first densely-connected\n",
    "layer is {best_hps.get('units')} and the optimal learning rate for the optimizer\n",
    "is {best_hps.get('learning_rate')}.\n",
    "\"\"\")\n"
   ]
  },
  {
   "cell_type": "code",
   "execution_count": null,
   "metadata": {},
   "outputs": [],
   "source": [
    "import math\n",
    "125 * (math.log(125, 3) ** 2) * 0.2 / 60"
   ]
  },
  {
   "cell_type": "markdown",
   "metadata": {},
   "source": [
    "## [5] Test Model and Assess Performance"
   ]
  },
  {
   "cell_type": "code",
   "execution_count": null,
   "metadata": {},
   "outputs": [],
   "source": [
    "test_preds = model.predict(test_ds)\n",
    "\n",
    "plt.figure(figsize=(12,60))\n",
    "\n",
    "for n, (gt_img, gt_mask) in enumerate(test_ds.unbatch().take(15)):\n",
    "    \n",
    "    plt.subplot(15,3,3*n+1)\n",
    "    plt.imshow(gt_img, cmap='gray', alpha=1)\n",
    "    plt.grid(False)\n",
    "    plt.xticks([])\n",
    "    plt.yticks([])\n",
    "    \n",
    "    plt.subplot(15,3,3*n+2)\n",
    "    plt.imshow(gt_mask, cmap='gnuplot', alpha=1)\n",
    "    plt.grid(False)\n",
    "    plt.xticks([])\n",
    "    plt.yticks([])\n",
    "    \n",
    "    plt.subplot(15,3,3*n+3)\n",
    "    plt.imshow(test_preds[n], cmap='gnuplot', alpha=1)\n",
    "    plt.grid(False)\n",
    "    plt.xticks([])\n",
    "    plt.yticks([])\n",
    "    \n",
    "os.mkdir(os.path.join(checkpoint_dir, 'analysis'))\n",
    "plt.savefig(os.path.join(checkpoint_dir, 'analysis', 'test_predictions.png'))\n",
    "plt.show()\n"
   ]
  },
  {
   "cell_type": "code",
   "execution_count": null,
   "metadata": {
    "tags": []
   },
   "outputs": [],
   "source": [
    "fig, ax = plt.subplots(nrows=1, ncols=2, figsize=(15, 5))\n",
    "\n",
    "epochs = range(len(model_history.history[\"loss\"]))\n",
    "loss = model_history.history[\"loss\"]\n",
    "val_loss = model_history.historyfig, ax = plt.subplots(nrows=1, ncols=2, figsize=(15,5))\n",
    "\n",
    "metric_epochs = range(len(model_history.history['loss']))\n",
    "metric_loss = model_history.history['loss']\n",
    "metric_val_loss = model_history.history['val_loss']\n",
    "\n",
    "ax[0].plot(metric_epochs[5:], metric_loss[5:], 'r', label='Training')\n",
    "ax[0].plot(metric_epochs[5:], metric_val_loss[5:], 'bo', label='Validation')\n",
    "ax[0].set_title('Training and Validation Loss')\n",
    "ax[0].set_xlabel('Epoch')\n",
    "ax[0].set_ylabel('Loss Value')\n",
    "ax[0].legend()\n",
    "\n",
    "metric_iou = model_history.history['Binary IoU']\n",
    "metric_val_iou = model_history.history['val_Binary IoU']\n",
    "\n",
    "ax[1].plot(metric_epochs, metric_iou, 'r', label='Training')\n",
    "ax[1].plot(metric_epochs, metric_val_iou, 'bo', label='Validation')\n",
    "ax[1].set_title('Training and Validation IoU')\n",
    "ax[1].set_xlabel('Epoch')\n",
    "ax[1].set_ylabel('IoU Value')\n",
    "ax[1].legend()\n",
    "plt.savefig(os.path.join(checkpoint_dir, 'analysis', 'metrics.png'))\n",
    "plt.show()[\"val_loss\"]\n",
    "\n",
    "ax[0].plot(epochs, loss, \"r\", label=\"Training\")\n",
    "ax[0].plot(epochs, val_loss, \"bo\", label=\"Validation\")\n",
    "ax[0].set_title(\"Training and Validation Loss\")\n",
    "ax[0].set_xlabel(\"Epoch\")\n",
    "ax[0].set_ylabel(\"Loss Value\")\n",
    "ax[0].legend()\n",
    "\n",
    "iou = model_history.history[\"Binary IoU\"]\n",
    "val_iou = model_history.history[\"val_Binary IoU\"]\n",
    "\n",
    "ax[1].plot(epochs, iou, \"r\", label=\"Training\")\n",
    "ax[1].plot(epochs, val_iou, \"bo\", label=\"Validation\")\n",
    "ax[1].set_title(\"Training and Validation IoU\")\n",
    "ax[1].set_xlabel(\"Epoch\")\n",
    "ax[1].set_ylabel(\"IoU Value\")\n",
    "ax[1].legend()\n",
    "plt.show()"
   ]
  }
 ],
 "metadata": {
  "kernelspec": {
   "display_name": "tf (Local)",
   "language": "python",
   "name": "local-tf"
  },
  "language_info": {
   "codemirror_mode": {
    "name": "ipython",
    "version": 3
   },
   "file_extension": ".py",
   "mimetype": "text/x-python",
   "name": "python",
   "nbconvert_exporter": "python",
   "pygments_lexer": "ipython3",
   "version": "3.7.12"
  }
 },
 "nbformat": 4,
 "nbformat_minor": 4
}
