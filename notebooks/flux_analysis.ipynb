{
 "cells": [
  {
   "cell_type": "code",
   "execution_count": 1,
   "metadata": {},
   "outputs": [],
   "source": [
    "import os\n",
    "import numpy as np\n",
    "import matplotlib.pyplot as plt\n",
    "import seaborn as sns\n",
    "import pandas as pd\n",
    "from PIL import Image\n",
    "import tensorflow as tf\n",
    "import logging\n",
    "from tqdm.notebook import tqdm\n",
    "import random"
   ]
  },
  {
   "cell_type": "code",
   "execution_count": 2,
   "metadata": {},
   "outputs": [],
   "source": [
    "\n",
    "IMAGE_FOLDERS = [os.path.join(os.pardir, 'data', 'Tadaki+20_spiral', 'Tadaki+20_Z'), os.path.join(os.pardir, 'data', 'Tadaki+20_spiral', 'Tadaki+20_S')]\n",
    "MASK_FOLDER = os.path.join(os.pardir, 'data', 'Tadaki+20_spiral', 'Tadaki+20_spiral_predictions')\n",
    "MODEL_PATH = os.path.join(os.pardir, 'models', 'tuned_model.keras')\n",
    "CATALOG_PATH = os.path.join(os.pardir, 'data', 'Tadaki+20_spiral', 'Tadaki+20_spiral.csv')"
   ]
  },
  {
   "attachments": {},
   "cell_type": "markdown",
   "metadata": {},
   "source": [
    "### Base Methods\n",
    "Compute Metrics for single image/mask pairs\n",
    "\n",
    "---\n",
    "`spiral_area_ratio(mask)` - Calculates ratio of masked area over total image area\"\n",
    "\n",
    "`pixel_intensity_ratio(mask, image)` - Calculates ratio of masked pixel intensity over full pixel intensity\n",
    "\n",
    "$$\n",
    "\\textbf{p}_{sp} =   \\sum_{x=1, y=1}^{m, n} \\frac{\\textbf{p}_{x,y}  \\cdot  \\text{s}_{x,y}}{\\textbf{p}_{x,y}}\\\\\n",
    "$$\n",
    "\n",
    "`flux_ratio(mask, image)` - Calculates flux intensity ratio of masked segment over whole image\n",
    "\n",
    "$$\n",
    "\\textbf{f}_{sp} =   \\sum_{x=1, y=1}^{m, n} \\frac{(\\textbf{p}_{x,y})^{2.2}  \\cdot  \\text{s}_{x,y}}{(\\textbf{p}_{x,y})^{2.2}}\\\\\n",
    "$$\n",
    "\n",
    "\n",
    "Where:\n",
    "\n",
    "$\\textbf{p}_{sp}$ is Ratio of pixel intensity of spiral segment to total pixel intensity, and\n",
    "\n",
    "$\\textbf{f}_{sp}$ is Ratio of estimated flux of spiral segment to total estimated flux, and\n",
    "\n",
    "$\\text{s}_{x,y}$ (spiral mask) is defined as follows:\n",
    "\n",
    "$$\n",
    "\\text{s}_{x,y} =\n",
    "\\begin{cases}\n",
    "1,  & \\text{if $x,y$ in spiral mask} \\\\\n",
    "0, & \\text{if $x,y$ not in spiral mask}\n",
    "\\end{cases}\n",
    "$$\n",
    "\n",
    "\n",
    "\n",
    "---"
   ]
  },
  {
   "cell_type": "code",
   "execution_count": 3,
   "metadata": {},
   "outputs": [],
   "source": [
    "def spiral_area_ratio(mask):\n",
    "    \"\"\"Calculates ratio of masked area over full area\"\"\"\n",
    "\n",
    "    return np.sum(mask) / len(mask.flatten())"
   ]
  },
  {
   "cell_type": "code",
   "execution_count": 4,
   "metadata": {},
   "outputs": [],
   "source": [
    "def pixel_intensity_ratio(mask, image):\n",
    "    \"\"\"Calculates ratio of masked pixel intensity over full pixel intensity\"\"\"\n",
    "\n",
    "    return np.sum(image * mask) / np.sum(image)"
   ]
  },
  {
   "cell_type": "code",
   "execution_count": 5,
   "metadata": {},
   "outputs": [],
   "source": [
    "def flux_ratio(mask, image):\n",
    "    \"\"\"Calculates flux intensity ratio of masked segment over whole image\"\"\"\n",
    "    image_flux = image**2.2\n",
    "    \n",
    "    return pixel_intensity_ratio(mask, image_flux)\n",
    "    "
   ]
  },
  {
   "attachments": {},
   "cell_type": "markdown",
   "metadata": {},
   "source": [
    "### Helper Methods\n",
    "\n",
    "---\n",
    "\n",
    "`get_image(image_id)` - Returns image numpy array for a given image id\n",
    "\n",
    "`get_image_and_mask(image_id)` - Returns image and mask numpy array for a given image id\n",
    "\n",
    "`get_pixel_intensity_ratios()` - Gets pixel intensity ratios for all images in IMAGE_FOLDER\n",
    "\n",
    "`get_flux_ratios()` - Gets pixel intensity ratios for all images in IMAGE_FOLDER\n",
    "\n",
    "---"
   ]
  },
  {
   "cell_type": "code",
   "execution_count": 6,
   "metadata": {},
   "outputs": [],
   "source": [
    "def get_image(image_id):\n",
    "    \"\"\"Returns image numpy array for a given image id\"\"\"\n",
    "    \n",
    "    for folder in IMAGE_FOLDERS:\n",
    "        image_path = os.path.join(folder, image_id + '.jpg')\n",
    "        if os.path.exists(image_path):\n",
    "            image = np.array(Image.open(image_path))\n",
    "            return image\n",
    "    \n",
    "    raise FileNotFoundError(f'Image {image_id} not found')\n",
    "    "
   ]
  },
  {
   "cell_type": "code",
   "execution_count": 7,
   "metadata": {},
   "outputs": [],
   "source": [
    "def get_image_and_mask(image_id):\n",
    "    \"\"\"Returns image and mask numpy array for a given image id\"\"\"\n",
    "    \n",
    "    mask_path = os.path.join(MASK_FOLDER, image_id + '.png')\n",
    "    mask = np.array(Image.open(mask_path))\n",
    "    \n",
    "    for folder in IMAGE_FOLDERS:\n",
    "        image_path = os.path.join(folder, image_id + '.jpg')\n",
    "        if os.path.exists(image_path):\n",
    "            image = np.array(Image.open(image_path))\n",
    "            return image, mask\n",
    "\n",
    "    raise FileNotFoundError(f'Image {image_id} not found')\n",
    "    "
   ]
  },
  {
   "cell_type": "code",
   "execution_count": 8,
   "metadata": {},
   "outputs": [],
   "source": [
    "def get_pixel_intensity_ratios(masks=None, images=None):\n",
    "    \"\"\"\n",
    "    Gets pixel intensity ratios for all images \n",
    "    \n",
    "    Uses either images and masks as input or loads them from disk\n",
    "    \"\"\"\n",
    "    pixel_intensity_ratios = {}\n",
    "    \n",
    "    if images is not None and masks is not None:\n",
    "        for image_id, image in images.items():\n",
    "            mask = masks[image_id]\n",
    "            pixel_intensity_ratios[image_id] = pixel_intensity_ratio(mask, image)\n",
    "    else:\n",
    "        for image_id in os.listdir(MASK_FOLDER):\n",
    "            image_id = image_id.split('.')[0]\n",
    "            image, mask = get_image_and_mask(image_id)\n",
    "            pixel_intensity_ratios[image_id] = pixel_intensity_ratio(mask, image)\n",
    "\n",
    "    return pixel_intensity_ratios"
   ]
  },
  {
   "cell_type": "code",
   "execution_count": 9,
   "metadata": {},
   "outputs": [],
   "source": [
    "def get_flux_ratios(masks=None, images=None):\n",
    "    \"\"\"\n",
    "    Gets flux ratios for all images \n",
    "    \n",
    "    Uses either images and masks as input or loads them from disk\n",
    "    \"\"\"\n",
    "    \n",
    "    flux_ratios = {}\n",
    "    if images is not None and masks is not None:\n",
    "        for image_id, image in images.items():\n",
    "            mask = masks[image_id]\n",
    "            flux_ratios[image_id] = flux_ratio(mask, image)\n",
    "    else:\n",
    "        for image_id in os.listdir(MASK_FOLDER):\n",
    "            image_id = image_id.split('.')[0]\n",
    "            image, mask = get_image_and_mask(image_id)\n",
    "            flux_ratios[image_id] = flux_ratio(mask, image)\n",
    "\n",
    "    return flux_ratios"
   ]
  },
  {
   "attachments": {},
   "cell_type": "markdown",
   "metadata": {},
   "source": [
    "### Prediction\n",
    "\n",
    "---\n",
    "\n",
    "`def get_predictions(prediction_folder=None, threshold=None, num_predictions=1000, overwrite=False, verbose=False)`\n",
    "\n",
    "\\- Loads tensorflow model at MODEL_PATH and returns predictions for images in IMAGE_FOLDERS\n",
    "\n",
    "\n",
    "> Define `prediction_folder` to save predictions as binary (0, 1) png files\n",
    ">    - NOTE: if unset, predictions will not be saved!\n",
    "\n",
    "\n",
    "> Set `num_predictions` to None to exhaust all images in folder\n",
    ">    - Suggested to keep set for large datasets, as it will take a long time to run for all images\n",
    ">    - GPU  Acceleration is also recommended for large datasets\n",
    ">    - [Tested on Ryzen 5 5600X has runtime of ~41s per 1000 images]\n",
    "\n",
    "> If `overwrite` is `True`, will discard all predictions at prediction_folder and replace with new predictions\n",
    "\n",
    "> If `verbose` is `True`, will print progress bar to track execution\n",
    "\n",
    "---"
   ]
  },
  {
   "cell_type": "code",
   "execution_count": 10,
   "metadata": {},
   "outputs": [],
   "source": [
    "def get_predictions(\n",
    "    prediction_folder=None,\n",
    "    threshold=None,\n",
    "    num_predictions=1000,\n",
    "    overwrite=False,\n",
    "    verbose=True,\n",
    "):\n",
    "    \"\"\"\n",
    "    Loads tensorflow model at MODEL_PATH and returns predictions for images in IMAGE_FOLDERS\n",
    "\n",
    "    define prediction_folder to save predictions as binary (0, 1) png files\n",
    "        -> NOTE: if unset, predictions will not be saved!\n",
    "    set num_predictions to None to exhaust all images in folder\n",
    "        -> Suggested to keep set for large datasets, as it will take a long time to run for all images\n",
    "        -> GPU  Acceleration is also recommended for large datasets\n",
    "        -> [Tested on Ryzen 5 5600X has runtime of ~41s per 1000 images]\n",
    "    \"\"\"\n",
    "\n",
    "    # GPU info\n",
    "    physical_devices = tf.config.list_physical_devices(\"GPU\")\n",
    "    if len(physical_devices) > 0:\n",
    "        logging.info(\"GPU Acceleration Enabled\")\n",
    "    else:\n",
    "        logging.info(\"GPU Acceleration Disabled\")\n",
    "        logging.info(\n",
    "            \"Consider enabling GPU Acceleration for faster predictions\"\n",
    "        )\n",
    "\n",
    "    # If num_predictions is not set, warn user\n",
    "    if num_predictions is None:\n",
    "        logging.warning(\n",
    "            \"Running without num_predictions=None may take a long time!\"\n",
    "        )\n",
    "        logging.info(\n",
    "            \"Process is interruptible using the stop button (or Ctrl+C, if supported)\"\n",
    "        )\n",
    "\n",
    "    # Fetch model\n",
    "    model = tf.keras.models.load_model(MODEL_PATH)\n",
    "\n",
    "    # Get list of image paths\n",
    "    image_list = [os.listdir(folder) for folder in IMAGE_FOLDERS]\n",
    "    image_list = [item for sublist in image_list for item in sublist]\n",
    "    \n",
    "    if num_predictions is not None:\n",
    "        image_list = image_list[:num_predictions]\n",
    "    image_list = tqdm(\n",
    "        image_list, desc=\"Images Processed\", position=0, disable=not (verbose)\n",
    "    )\n",
    "\n",
    "    skipped_count = 0\n",
    "    file_log = tqdm(total=0, position=1, bar_format=\"{desc}\")\n",
    "    file_log.set_description_str(f\"Current file: \")\n",
    "    skipped_log = tqdm(total=0, position=2, bar_format=\"{desc}\")\n",
    "    skipped_log.set_description_str(f\"Skipped 0 files\")\n",
    "\n",
    "    images = {}\n",
    "    predictions = {}\n",
    "\n",
    "    for i, image_id in enumerate(image_list):\n",
    "\n",
    "        if num_predictions is not None and i >= num_predictions:\n",
    "            break\n",
    "\n",
    "        # Get image\n",
    "        image_id = image_id.split(\".\")[0]\n",
    "        file_log.set_description_str(f\"Current file: {image_id}\")\n",
    "        image = get_image(image_id)\n",
    "        images[image_id] = image\n",
    "        image = np.expand_dims(image, axis=0)\n",
    "\n",
    "        if (\n",
    "            prediction_folder is not None\n",
    "            and os.path.exists(prediction_folder)\n",
    "            and os.path.exists(\n",
    "                os.path.join(prediction_folder, image_id + \".png\")\n",
    "            )\n",
    "            and not overwrite\n",
    "        ):\n",
    "            # If prediction already exists, read existing prediction\n",
    "            predictions[image_id] = np.array(\n",
    "                Image.open(os.path.join(prediction_folder, image_id + \".png\"))\n",
    "            )\n",
    "            skipped_count += 1\n",
    "            skipped_log.set_description_str(f\"Skipped {skipped_count} files\")\n",
    "            continue\n",
    "        else:\n",
    "            # Predict using model\n",
    "            predictions[image_id] = model.predict(image, verbose=0).reshape((64, 64))\n",
    "\n",
    "        if threshold is not None:\n",
    "            predictions[image_id] = (predictions[image_id] > threshold).astype(\n",
    "                np.uint8\n",
    "            )\n",
    "\n",
    "        if prediction_folder is not None and os.path.exists(prediction_folder):\n",
    "            prediction = predictions[image_id]\n",
    "            prediction = prediction.reshape((64, 64))\n",
    "            prediction = Image.fromarray(prediction)\n",
    "            prediction.save(os.path.join(prediction_folder, image_id + \".png\"))\n",
    "\n",
    "    return images, predictions"
   ]
  },
  {
   "attachments": {},
   "cell_type": "markdown",
   "metadata": {},
   "source": [
    "### Display Methods\n",
    "\n",
    "Displays plots and images\n",
    "\n",
    "---\n",
    "\n",
    "`plot_ratio_distributions(flux_ratios, pixel_ratios)` - Plots distributions of flux and pixel intensity ratios on histogram over 0->1\n",
    "\n",
    "`print_image_mask_pred(image, mask, prediction, title, threshold=0.5)` - Displays image, mask and prediction side by side\n",
    "\n",
    "`print_image_pred(image, prediction, title, threshold=0.5)` - Displays image and prediction side by side\n",
    "\n",
    "`show_prediction_sample(n_sample=5, display_mask=True)` - Displays 5 images with their masks (if specified) and predictions\n",
    "\n",
    "\n",
    "\n",
    "---\n"
   ]
  },
  {
   "cell_type": "code",
   "execution_count": 11,
   "metadata": {},
   "outputs": [],
   "source": [
    "def plot_ratio_distributions(flux_ratios, pixel_ratios):\n",
    "    \"\"\"Plots distributions of flux and pixel intensity ratios on histogram over 0->1\"\"\"\n",
    "\n",
    "    fig, ax = plt.subplots(2, 1, figsize=(15, 15))\n",
    "\n",
    "    sns.histplot( x = pixel_ratios.values(), ax=ax[0], kde=True, binrange=(0, 1)).set(title = \"Pixel Ratio Distribution\")\n",
    "    sns.histplot( x = flux_ratios.values(), ax=ax[1], color='orange', kde=True, binrange=(0, 1)).set(title = \"Estimated Flux Ratio Distribution\")\n",
    "\n",
    "    ax[0].legend([],[], frameon = False)\n",
    "    ax[1].legend([],[], frameon = False)\n",
    "\n",
    "    plt.show()"
   ]
  },
  {
   "cell_type": "code",
   "execution_count": 12,
   "metadata": {},
   "outputs": [],
   "source": [
    "def print_image_mask_pred(image, mask, prediction, title, threshold=0.5):\n",
    "    \"\"\"Displays image, mask and prediction side by side\"\"\"\n",
    "    \n",
    "    fig, ax = plt.subplots(1, 3, figsize=(15, 15))\n",
    "    ax[0].imshow(image)\n",
    "    ax[0].set_title('Image')\n",
    "    ax[1].imshow(mask)\n",
    "    ax[1].set_title('Mask')\n",
    "    ax[2].imshow(prediction>threshold)\n",
    "    ax[2].set_title('Prediction')\n",
    "    \n",
    "    # Turn off all axes\n",
    "    for a in ax:\n",
    "        a.axis('off')\n",
    "    \n",
    "    plt.suptitle(title, y=0.67, fontsize=16)\n",
    "    \n",
    "    plt.show()"
   ]
  },
  {
   "cell_type": "code",
   "execution_count": 13,
   "metadata": {},
   "outputs": [],
   "source": [
    "def print_image_pred(image, prediction, title=\"\", threshold=0.5):\n",
    "    \"\"\"Displays image and prediction side by side\"\"\"\n",
    "    \n",
    "    fig, ax = plt.subplots(1, 2, figsize=(15, 15))\n",
    "    ax[0].imshow(image)\n",
    "    ax[0].set_title('Image')\n",
    "    ax[1].imshow(prediction>threshold)\n",
    "    ax[1].set_title('Prediction')\n",
    "    \n",
    "    # Turn off all axes\n",
    "    for a in ax:\n",
    "        a.axis('off')\n",
    "    \n",
    "    plt.suptitle(title, y=0.74, fontsize=16)\n",
    "    \n",
    "    plt.show()"
   ]
  },
  {
   "cell_type": "code",
   "execution_count": 14,
   "metadata": {},
   "outputs": [],
   "source": [
    "def show_prediction_sample(images=None, preds=None, n_sample=5, threshold=0.5):\n",
    "    \"\"\"Displays randon sample of images and their predictions\"\"\"\n",
    "    \n",
    "    if images is None and preds is None:\n",
    "        images, preds = get_predictions(MODEL_PATH, num_predictions=n_sample)\n",
    "\n",
    "    for image_id in random.sample(list(preds), n_sample):\n",
    "        print_image_pred(images[image_id], preds[image_id], image_id, threshold=threshold)"
   ]
  },
  {
   "cell_type": "markdown",
   "metadata": {},
   "source": [
    "## Experimentation Section"
   ]
  },
  {
   "cell_type": "code",
   "execution_count": 15,
   "metadata": {},
   "outputs": [
    {
     "name": "stderr",
     "output_type": "stream",
     "text": [
      "WARNING:root:Running without num_predictions=None may take a long time!\n"
     ]
    },
    {
     "data": {
      "application/vnd.jupyter.widget-view+json": {
       "model_id": "2a3901bba9a0436ba258746c4981b0a0",
       "version_major": 2,
       "version_minor": 0
      },
      "text/plain": [
       "Images Processed:   0%|          | 0/76545 [00:00<?, ?it/s]"
      ]
     },
     "metadata": {},
     "output_type": "display_data"
    },
    {
     "data": {
      "application/vnd.jupyter.widget-view+json": {
       "model_id": "666c814a981243658200284af1c18581",
       "version_major": 2,
       "version_minor": 0
      },
      "text/plain": []
     },
     "metadata": {},
     "output_type": "display_data"
    },
    {
     "data": {
      "application/vnd.jupyter.widget-view+json": {
       "model_id": "41724f5597384bd8b4df3ed825b51927",
       "version_major": 2,
       "version_minor": 0
      },
      "text/plain": []
     },
     "metadata": {},
     "output_type": "display_data"
    }
   ],
   "source": [
    "# Make predictions for images in IMAGE_FOLDERS\n",
    "images, preds = get_predictions(prediction_folder=MASK_FOLDER, threshold=0.5, num_predictions=None, verbose=True)"
   ]
  },
  {
   "cell_type": "code",
   "execution_count": 16,
   "metadata": {},
   "outputs": [
    {
     "data": {
      "image/png": "[encoded data removed]",
      "text/plain": [
       "<Figure size 1080x1080 with 2 Axes>"
      ]
     },
     "metadata": {
      "needs_background": "light"
     },
     "output_type": "display_data"
    },
    {
     "data": {
      "image/png": "[encoded data removed]",
      "text/plain": [
       "<Figure size 1080x1080 with 2 Axes>"
      ]
     },
     "metadata": {
      "needs_background": "light"
     },
     "output_type": "display_data"
    },
    {
     "data": {
      "image/png": "[encoded data removed]",
      "text/plain": [
       "<Figure size 1080x1080 with 2 Axes>"
      ]
     },
     "metadata": {
      "needs_background": "light"
     },
     "output_type": "display_data"
    },
    {
     "data": {
      "image/png": "[encoded data removed]",
      "text/plain": [
       "<Figure size 1080x1080 with 2 Axes>"
      ]
     },
     "metadata": {
      "needs_background": "light"
     },
     "output_type": "display_data"
    },
    {
     "data": {
      "image/png": "[encoded data removed]",
      "text/plain": [
       "<Figure size 1080x1080 with 2 Axes>"
      ]
     },
     "metadata": {
      "needs_background": "light"
     },
     "output_type": "display_data"
    }
   ],
   "source": [
    "show_prediction_sample(images=images, preds=preds, n_sample=5)"
   ]
  },
  {
   "attachments": {},
   "cell_type": "markdown",
   "metadata": {},
   "source": [
    "### Catalogue Analysis"
   ]
  },
  {
   "cell_type": "code",
   "execution_count": 17,
   "metadata": {},
   "outputs": [],
   "source": [
    "# Get Pixel Intensity Ratios and Estimated Flux Ratios\n",
    "pixel_ratios = get_pixel_intensity_ratios(masks=preds, images=images);\n",
    "flux_ratios = get_flux_ratios(masks=preds, images=images);"
   ]
  },
  {
   "cell_type": "code",
   "execution_count": 18,
   "metadata": {},
   "outputs": [],
   "source": [
    "# Read catalog\n",
    "catalog_df = pd.read_csv(CATALOG_PATH, index_col='object_id')"
   ]
  },
  {
   "cell_type": "code",
   "execution_count": 19,
   "metadata": {},
   "outputs": [
    {
     "data": {
      "text/html": [
       "<div>\n",
       "<style scoped>\n",
       "    .dataframe tbody tr th:only-of-type {\n",
       "        vertical-align: middle;\n",
       "    }\n",
       "\n",
       "    .dataframe tbody tr th {\n",
       "        vertical-align: top;\n",
       "    }\n",
       "\n",
       "    .dataframe thead th {\n",
       "        text-align: right;\n",
       "    }\n",
       "</style>\n",
       "<table border=\"1\" class=\"dataframe\">\n",
       "  <thead>\n",
       "    <tr style=\"text-align: right;\">\n",
       "      <th></th>\n",
       "      <th>ra</th>\n",
       "      <th>dec</th>\n",
       "      <th>i_apertureflux_57_mag</th>\n",
       "      <th>i_cmodel_mag</th>\n",
       "      <th>i_cmodel_fracdev</th>\n",
       "      <th>i_cmodel_flag</th>\n",
       "      <th>photoz_best</th>\n",
       "      <th>photoz_risk_best</th>\n",
       "      <th>stellar_mass</th>\n",
       "      <th>sfr</th>\n",
       "      <th>spectroscopic redshift</th>\n",
       "      <th>Tadaki+2020 class flag</th>\n",
       "      <th>p0</th>\n",
       "      <th>p1</th>\n",
       "      <th>p2</th>\n",
       "      <th>flux ratio</th>\n",
       "    </tr>\n",
       "  </thead>\n",
       "  <tbody>\n",
       "    <tr>\n",
       "      <th>count</th>\n",
       "      <td>76635.000000</td>\n",
       "      <td>76635.000000</td>\n",
       "      <td>76635.000000</td>\n",
       "      <td>76635.000000</td>\n",
       "      <td>76635.000000</td>\n",
       "      <td>76635.000000</td>\n",
       "      <td>76635.000000</td>\n",
       "      <td>76635.000000</td>\n",
       "      <td>76635.000000</td>\n",
       "      <td>76635.000000</td>\n",
       "      <td>76635.000000</td>\n",
       "      <td>76635.000000</td>\n",
       "      <td>76635.000000</td>\n",
       "      <td>76635.000000</td>\n",
       "      <td>76635.000000</td>\n",
       "      <td>76545.000000</td>\n",
       "    </tr>\n",
       "    <tr>\n",
       "      <th>mean</th>\n",
       "      <td>240.779905</td>\n",
       "      <td>0.951721</td>\n",
       "      <td>19.022771</td>\n",
       "      <td>17.499424</td>\n",
       "      <td>-0.291643</td>\n",
       "      <td>-98.120258</td>\n",
       "      <td>0.255275</td>\n",
       "      <td>0.035600</td>\n",
       "      <td>10.233987</td>\n",
       "      <td>0.219516</td>\n",
       "      <td>-76.899378</td>\n",
       "      <td>1.505226</td>\n",
       "      <td>0.105165</td>\n",
       "      <td>0.443460</td>\n",
       "      <td>0.451355</td>\n",
       "      <td>0.345028</td>\n",
       "    </tr>\n",
       "    <tr>\n",
       "      <th>std</th>\n",
       "      <td>96.974270</td>\n",
       "      <td>1.786678</td>\n",
       "      <td>0.689114</td>\n",
       "      <td>11.060987</td>\n",
       "      <td>9.353113</td>\n",
       "      <td>9.290942</td>\n",
       "      <td>0.140121</td>\n",
       "      <td>0.878533</td>\n",
       "      <td>0.782186</td>\n",
       "      <td>0.755905</td>\n",
       "      <td>41.279796</td>\n",
       "      <td>0.499976</td>\n",
       "      <td>0.144564</td>\n",
       "      <td>0.457563</td>\n",
       "      <td>0.456649</td>\n",
       "      <td>0.087918</td>\n",
       "    </tr>\n",
       "    <tr>\n",
       "      <th>min</th>\n",
       "      <td>0.000668</td>\n",
       "      <td>-1.487514</td>\n",
       "      <td>15.536612</td>\n",
       "      <td>-99.000000</td>\n",
       "      <td>-99.000000</td>\n",
       "      <td>-99.000000</td>\n",
       "      <td>0.000000</td>\n",
       "      <td>-99.000000</td>\n",
       "      <td>-99.000000</td>\n",
       "      <td>-99.000000</td>\n",
       "      <td>-99.000000</td>\n",
       "      <td>1.000000</td>\n",
       "      <td>0.000000</td>\n",
       "      <td>0.000000</td>\n",
       "      <td>0.000000</td>\n",
       "      <td>0.000000</td>\n",
       "    </tr>\n",
       "    <tr>\n",
       "      <th>25%</th>\n",
       "      <td>152.064787</td>\n",
       "      <td>-0.372567</td>\n",
       "      <td>18.590684</td>\n",
       "      <td>18.018608</td>\n",
       "      <td>0.308367</td>\n",
       "      <td>-99.000000</td>\n",
       "      <td>0.160000</td>\n",
       "      <td>0.014607</td>\n",
       "      <td>9.889000</td>\n",
       "      <td>-0.039001</td>\n",
       "      <td>-99.000000</td>\n",
       "      <td>1.000000</td>\n",
       "      <td>0.001000</td>\n",
       "      <td>0.000000</td>\n",
       "      <td>0.000000</td>\n",
       "      <td>0.282451</td>\n",
       "    </tr>\n",
       "    <tr>\n",
       "      <th>50%</th>\n",
       "      <td>217.860696</td>\n",
       "      <td>0.625459</td>\n",
       "      <td>19.141258</td>\n",
       "      <td>18.665420</td>\n",
       "      <td>0.651230</td>\n",
       "      <td>-99.000000</td>\n",
       "      <td>0.240000</td>\n",
       "      <td>0.024378</td>\n",
       "      <td>10.280000</td>\n",
       "      <td>0.248000</td>\n",
       "      <td>-99.000000</td>\n",
       "      <td>2.000000</td>\n",
       "      <td>0.022000</td>\n",
       "      <td>0.069000</td>\n",
       "      <td>0.507000</td>\n",
       "      <td>0.340379</td>\n",
       "    </tr>\n",
       "    <tr>\n",
       "      <th>75%</th>\n",
       "      <td>339.833483</td>\n",
       "      <td>1.774035</td>\n",
       "      <td>19.577688</td>\n",
       "      <td>19.165594</td>\n",
       "      <td>0.927105</td>\n",
       "      <td>-99.000000</td>\n",
       "      <td>0.340000</td>\n",
       "      <td>0.045998</td>\n",
       "      <td>10.622000</td>\n",
       "      <td>0.535000</td>\n",
       "      <td>-99.000000</td>\n",
       "      <td>2.000000</td>\n",
       "      <td>0.176000</td>\n",
       "      <td>0.977000</td>\n",
       "      <td>0.977000</td>\n",
       "      <td>0.401812</td>\n",
       "    </tr>\n",
       "    <tr>\n",
       "      <th>max</th>\n",
       "      <td>359.997874</td>\n",
       "      <td>7.437271</td>\n",
       "      <td>19.999989</td>\n",
       "      <td>21.669109</td>\n",
       "      <td>1.000000</td>\n",
       "      <td>0.000000</td>\n",
       "      <td>4.140000</td>\n",
       "      <td>0.773700</td>\n",
       "      <td>14.991000</td>\n",
       "      <td>10.000000</td>\n",
       "      <td>5.375290</td>\n",
       "      <td>2.000000</td>\n",
       "      <td>0.500000</td>\n",
       "      <td>1.000000</td>\n",
       "      <td>1.000000</td>\n",
       "      <td>0.709571</td>\n",
       "    </tr>\n",
       "  </tbody>\n",
       "</table>\n",
       "</div>"
      ],
      "text/plain": [
       "                 ra           dec  i_apertureflux_57_mag  i_cmodel_mag  \\\n",
       "count  76635.000000  76635.000000           76635.000000  76635.000000   \n",
       "mean     240.779905      0.951721              19.022771     17.499424   \n",
       "std       96.974270      1.786678               0.689114     11.060987   \n",
       "min        0.000668     -1.487514              15.536612    -99.000000   \n",
       "25%      152.064787     -0.372567              18.590684     18.018608   \n",
       "50%      217.860696      0.625459              19.141258     18.665420   \n",
       "75%      339.833483      1.774035              19.577688     19.165594   \n",
       "max      359.997874      7.437271              19.999989     21.669109   \n",
       "\n",
       "       i_cmodel_fracdev  i_cmodel_flag   photoz_best  photoz_risk_best  \\\n",
       "count      76635.000000   76635.000000  76635.000000      76635.000000   \n",
       "mean          -0.291643     -98.120258      0.255275          0.035600   \n",
       "std            9.353113       9.290942      0.140121          0.878533   \n",
       "min          -99.000000     -99.000000      0.000000        -99.000000   \n",
       "25%            0.308367     -99.000000      0.160000          0.014607   \n",
       "50%            0.651230     -99.000000      0.240000          0.024378   \n",
       "75%            0.927105     -99.000000      0.340000          0.045998   \n",
       "max            1.000000       0.000000      4.140000          0.773700   \n",
       "\n",
       "       stellar_mass           sfr  spectroscopic redshift  \\\n",
       "count  76635.000000  76635.000000            76635.000000   \n",
       "mean      10.233987      0.219516              -76.899378   \n",
       "std        0.782186      0.755905               41.279796   \n",
       "min      -99.000000    -99.000000              -99.000000   \n",
       "25%        9.889000     -0.039001              -99.000000   \n",
       "50%       10.280000      0.248000              -99.000000   \n",
       "75%       10.622000      0.535000              -99.000000   \n",
       "max       14.991000     10.000000                5.375290   \n",
       "\n",
       "       Tadaki+2020 class flag            p0            p1            p2  \\\n",
       "count            76635.000000  76635.000000  76635.000000  76635.000000   \n",
       "mean                 1.505226      0.105165      0.443460      0.451355   \n",
       "std                  0.499976      0.144564      0.457563      0.456649   \n",
       "min                  1.000000      0.000000      0.000000      0.000000   \n",
       "25%                  1.000000      0.001000      0.000000      0.000000   \n",
       "50%                  2.000000      0.022000      0.069000      0.507000   \n",
       "75%                  2.000000      0.176000      0.977000      0.977000   \n",
       "max                  2.000000      0.500000      1.000000      1.000000   \n",
       "\n",
       "         flux ratio  \n",
       "count  76545.000000  \n",
       "mean       0.345028  \n",
       "std        0.087918  \n",
       "min        0.000000  \n",
       "25%        0.282451  \n",
       "50%        0.340379  \n",
       "75%        0.401812  \n",
       "max        0.709571  "
      ]
     },
     "execution_count": 19,
     "metadata": {},
     "output_type": "execute_result"
    }
   ],
   "source": [
    "\n",
    "# Add flux_ratios as new column to catalog\n",
    "catalog_df = pd.concat([catalog_df, pd.DataFrame.from_dict(flux_ratios, orient='index', columns=['flux ratio'])], axis=1)\n",
    "catalog_df.describe()"
   ]
  }
 ],
 "metadata": {
  "kernelspec": {
   "display_name": "Python 3",
   "language": "python",
   "name": "python3"
  },
  "language_info": {
   "codemirror_mode": {
    "name": "ipython",
    "version": 3
   },
   "file_extension": ".py",
   "mimetype": "text/x-python",
   "name": "python",
   "nbconvert_exporter": "python",
   "pygments_lexer": "ipython3",
   "version": "3.9.13"
  },
  "orig_nbformat": 4,
  "vscode": {
   "interpreter": {
    "hash": "f54c3508af21ff7bd3bd04a3c70cfc8631b77736188a8a2e019278c5f75b5a6a"
   }
  }
 },
 "nbformat": 4,
 "nbformat_minor": 2
}
