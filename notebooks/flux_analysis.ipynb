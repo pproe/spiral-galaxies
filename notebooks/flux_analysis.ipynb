{
 "cells": [
  {
   "cell_type": "code",
   "execution_count": null,
   "metadata": {},
   "outputs": [],
   "source": [
    "def spiral_area_ratio(mask):\n",
    "    \"\"\"Calculates ratio of masked area over full area\"\"\"\n",
    "\n",
    "    return np.sum(mask) / len(mask.flatten())"
   ]
  }
 ],
 "metadata": {
  "language_info": {
   "name": "python"
  },
  "orig_nbformat": 4
 },
 "nbformat": 4,
 "nbformat_minor": 2
}
