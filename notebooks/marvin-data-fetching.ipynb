{
 "cells": [
  {
   "cell_type": "markdown",
   "id": "fb2f2ea6-276b-4e2b-a685-cdcd7207b5c3",
   "metadata": {},
   "source": [
    "*This notebook runs the processes needed to download data from the Galaxy Zoo 3D dataset to usable bitmaps for training the spiral arm segmentation model*\n",
    "\n",
    "**Author: Patrick Roe, proe0907@protonmail.com**"
   ]
  },
  {
   "cell_type": "markdown",
   "id": "c28e5e49-bc8b-41c3-a1c1-1d1155fedc43",
   "metadata": {},
   "source": [
    "# Install & Import Packages"
   ]
  },
  {
   "cell_type": "markdown",
   "id": "e05684c9-63ee-4336-b1c9-8ff61f57c8aa",
   "metadata": {},
   "source": [
    "### Install Packages"
   ]
  },
  {
   "cell_type": "code",
   "execution_count": null,
   "id": "3255080f-76ec-48eb-beb3-e2db64d26e60",
   "metadata": {},
   "outputs": [],
   "source": [
    "!pip install -q sdss-marvin==2.8.0\n",
    "# Downgrade Jinja2 & itsdangerous to fix compatibility issues\n",
    "!pip install -qU \"jinja2>3,<3.1\"\n",
    "!pip install -qU \"itsdangerous>2, <2.0.2\""
   ]
  },
  {
   "cell_type": "markdown",
   "id": "dc643c75-fd4f-484d-acd1-328a87eea0f6",
   "metadata": {},
   "source": [
    "### Import Packages"
   ]
  },
  {
   "cell_type": "code",
   "execution_count": null,
   "id": "74706cfe-5b0e-4455-8323-ae960f162b3b",
   "metadata": {},
   "outputs": [],
   "source": [
    "import marvin\n",
    "\n",
    "import matplotlib.pyplot as plt\n",
    "import matplotlib.gridspec as gridspec"
   ]
  },
  {
   "cell_type": "markdown",
   "id": "78f88d4a-08ec-4a12-ba81-7f6acceed785",
   "metadata": {},
   "source": [
    "### Update Configuration for DR17 and matplotlib style"
   ]
  },
  {
   "cell_type": "code",
   "execution_count": null,
   "id": "28942a68-5ac3-4fcf-b2a5-c839913cab4b",
   "metadata": {},
   "outputs": [],
   "source": [
    "marvin.config.download = (True)\n",
    "marvin.config.release = 'DR17'\n",
    "\n",
    "style = {\n",
    "    'lines.linewidth': 1.5,\n",
    "    'font.size': 16.0,\n",
    "    'axes.linewidth': 1.5,\n",
    "    'axes.titlesize': 'large',\n",
    "    'axes.labelsize': 'large',\n",
    "    'xtick.major.size': 6,\n",
    "    'xtick.minor.size': 4,\n",
    "    'xtick.major.width': 1.5,\n",
    "    'xtick.minor.width': 1.5,\n",
    "    'xtick.major.pad': 6,\n",
    "    'xtick.minor.pad': 6,\n",
    "    'xtick.labelsize': 'medium',\n",
    "    'ytick.major.size': 6,\n",
    "    'ytick.minor.size': 4,\n",
    "    'ytick.major.width': 1.5,\n",
    "    'ytick.minor.width': 1.5,\n",
    "    'ytick.major.pad': 6,\n",
    "    'ytick.minor.pad': 6,\n",
    "    'ytick.labelsize': 'medium',\n",
    "    'legend.fancybox': True,\n",
    "    'legend.fontsize': 'small',\n",
    "    'legend.scatterpoints': 5,\n",
    "    'legend.loc': 'best',\n",
    "    'figure.titlesize': 'large',\n",
    "}\n",
    "\n",
    "plt.style.use(style)"
   ]
  },
  {
   "cell_type": "markdown",
   "id": "c2689fca-fd75-47b1-a622-3a539dc6742c",
   "metadata": {},
   "source": [
    "## Test Access to Files"
   ]
  },
  {
   "cell_type": "code",
   "execution_count": null,
   "id": "0e5ea6ee-38a1-433e-84ca-c45090363ec3",
   "metadata": {},
   "outputs": [],
   "source": [
    "plateifu = '8992-9102'\n",
    "\n",
    "cube = marvin.tools.Cube(plateifu)\n",
    "data = cube.vacs\n",
    "print(data.gz3d)"
   ]
  },
  {
   "cell_type": "markdown",
   "id": "5782f7ea-f77b-4557-b5d8-3700819b2549",
   "metadata": {},
   "source": [
    "## Test Plotting"
   ]
  },
  {
   "cell_type": "code",
   "execution_count": null,
   "id": "42e5e78d-778d-476f-8740-6b766d9484f8",
   "metadata": {},
   "outputs": [],
   "source": [
    "#Setting up the plot\n",
    "plt.figure(figsize=(23, 5))\n",
    "gs = gridspec.GridSpec(1, 3, wspace=0.5)\n",
    "ax0 = plt.subplot(gs[0], projection=data.wcs)\n",
    "\n",
    "#Plot the orignal image shown to GZ3D volunteers\n",
    "data.plot_image(color_grid='grey', ax=ax0)\n",
    "\n",
    "#Plot a heat map showing vote counts for the four different tasks in GZ3D. We call these feature masks.\n",
    "data.plot_masks(color_grid='grey', subplot_spec=gs[1]);\n",
    "\n",
    "#As above, but overlay on the image\n",
    "data.plot_masks(show_image=True, color_grid='grey', subplot_spec=gs[2]);"
   ]
  }
 ],
 "metadata": {
  "kernelspec": {
   "display_name": "marvin",
   "language": "python",
   "name": "marvin"
  },
  "language_info": {
   "codemirror_mode": {
    "name": "ipython",
    "version": 3
   },
   "file_extension": ".py",
   "mimetype": "text/x-python",
   "name": "python",
   "nbconvert_exporter": "python",
   "pygments_lexer": "ipython3",
   "version": "3.8.16"
  }
 },
 "nbformat": 4,
 "nbformat_minor": 5
}
