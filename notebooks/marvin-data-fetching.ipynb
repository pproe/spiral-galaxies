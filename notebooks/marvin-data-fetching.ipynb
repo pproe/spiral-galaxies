{
  "cells": [
    {
      "cell_type": "markdown",
      "id": "fb2f2ea6-276b-4e2b-a685-cdcd7207b5c3",
      "metadata": {
        "id": "fb2f2ea6-276b-4e2b-a685-cdcd7207b5c3"
      },
      "source": [
        "*This notebook runs the processes needed to download data from the Galaxy Zoo 3D dataset to usable bitmaps for training the spiral arm segmentation model*\n",
        "\n",
        "**Author: Patrick Roe, proe0907@protonmail.com**"
      ]
    },
    {
      "cell_type": "markdown",
      "id": "dc643c75-fd4f-484d-acd1-328a87eea0f6",
      "metadata": {
        "id": "dc643c75-fd4f-484d-acd1-328a87eea0f6"
      },
      "source": [
        "## Import Packages"
      ]
    },
    {
      "cell_type": "code",
      "execution_count": 28,
      "id": "74706cfe-5b0e-4455-8323-ae960f162b3b",
      "metadata": {
        "id": "74706cfe-5b0e-4455-8323-ae960f162b3b"
      },
      "outputs": [],
      "source": [
        "from astropy.table import Table\n",
        "from astropy.io import fits\n",
        "import numpy as np\n",
        "import pandas as pd"
      ]
    },
    {
      "cell_type": "markdown",
      "id": "5782f7ea-f77b-4557-b5d8-3700819b2549",
      "metadata": {
        "id": "5782f7ea-f77b-4557-b5d8-3700819b2549"
      },
      "source": [
        "## Get Metadata of spiral mask galaxies"
      ]
    },
    {
      "cell_type": "code",
      "source": [
        "t = Table.read('https://data.sdss.org/sas/dr17/manga/morphology/galaxyzoo3d/v4_0_0/gz3d_metadata.fits')\n",
        "gz3d_df = t.to_pandas()\n",
        "\n",
        "# Remove entries with no spiral mask, according to this page:\n",
        "# https://data.sdss.org/datamodel/files/MANGA_MORPHOLOGY/galaxyzoo3d/GZ3DVER/gz3d_metadata.html\n",
        "\n",
        "gz3d_df = gz3d_df.loc[gz3d_df['GZ_spiral_votes']/gz3d_df['GZ_total_classifications']>0.2]\n",
        "print(gz3d_df.dtypes)"
      ],
      "metadata": {
        "id": "TUr3tysh8bYE",
        "outputId": "0e1fcaef-c6f5-44ae-daf5-be7e2b724ddc",
        "colab": {
          "base_uri": "https://localhost:8080/"
        }
      },
      "id": "TUr3tysh8bYE",
      "execution_count": 18,
      "outputs": [
        {
          "output_type": "stream",
          "name": "stdout",
          "text": [
            "file_name                    object\n",
            "zooniverse_subject_id         int32\n",
            "number_galaxy_centers         int16\n",
            "number_foreground_stars       int16\n",
            "observed                       bool\n",
            "ra                          float64\n",
            "dec                         float64\n",
            "MANGAID                      object\n",
            "IAUNAME                      object\n",
            "IFUDESIGNSIZE               float32\n",
            "MANGA_TILEID                float32\n",
            "nsa_id                        int32\n",
            "explorer_link                object\n",
            "GZ_total_classifications      int16\n",
            "GZ_bar_votes                  int16\n",
            "GZ_spiral_votes               int16\n",
            "sample                       object\n",
            "dtype: object\n"
          ]
        }
      ]
    },
    {
      "cell_type": "code",
      "source": [
        "def get_spiral_mask(file_name):\n",
        "\n",
        "    file_name = file_name.decode('utf-8').strip()\n",
        "    hdulist = fits.open(f'https://data.sdss.org/sas/dr17/env/MANGA_MORPHOLOGY/galaxyzoo3d/v4_0_0/gz3d_{file_name}.gz')\n",
        "    img = hdulist[0].data\n",
        "    msk = hdulist[2].data\n",
        "\n",
        "file_names = np.array(gz3d_df['file_name'])\n",
        "for fn in file_names:\n",
        "    get_spiral_mask(fn)"
      ],
      "metadata": {
        "id": "4xhNj44G1GiM"
      },
      "id": "4xhNj44G1GiM",
      "execution_count": null,
      "outputs": []
    }
  ],
  "metadata": {
    "kernelspec": {
      "display_name": "marvin",
      "language": "python",
      "name": "marvin"
    },
    "language_info": {
      "codemirror_mode": {
        "name": "ipython",
        "version": 3
      },
      "file_extension": ".py",
      "mimetype": "text/x-python",
      "name": "python",
      "nbconvert_exporter": "python",
      "pygments_lexer": "ipython3",
      "version": "3.8.16"
    },
    "colab": {
      "provenance": []
    }
  },
  "nbformat": 4,
  "nbformat_minor": 5
}